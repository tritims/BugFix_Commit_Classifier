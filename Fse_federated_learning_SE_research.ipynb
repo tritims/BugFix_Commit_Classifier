{
  "nbformat": 4,
  "nbformat_minor": 0,
  "metadata": {
    "colab": {
      "name": "FSE_NIER.ipynb",
      "provenance": [],
      "collapsed_sections": [],
      "authorship_tag": "ABX9TyM3zIHamoo5kqeECvaqdEGG"
    },
    "kernelspec": {
      "name": "python3",
      "display_name": "Python 3"
    },
    "language_info": {
      "name": "python"
    },
    "accelerator": "GPU",
    "widgets": {
      "application/vnd.jupyter.widget-state+json": {
        "a3be888d081547de8f35c0236f7631e6": {
          "model_module": "@jupyter-widgets/controls",
          "model_name": "HBoxModel",
          "model_module_version": "1.5.0",
          "state": {
            "_dom_classes": [],
            "_model_module": "@jupyter-widgets/controls",
            "_model_module_version": "1.5.0",
            "_model_name": "HBoxModel",
            "_view_count": null,
            "_view_module": "@jupyter-widgets/controls",
            "_view_module_version": "1.5.0",
            "_view_name": "HBoxView",
            "box_style": "",
            "children": [
              "IPY_MODEL_ee00f3b0e4794c2f89604c576f19cd0b",
              "IPY_MODEL_b145a68123ac464b8502c0281e7d56ea",
              "IPY_MODEL_717275d2388740f4b82e8924e5fe1f33"
            ],
            "layout": "IPY_MODEL_6a9b28987d724c71b270c8b1175fd446"
          }
        },
        "ee00f3b0e4794c2f89604c576f19cd0b": {
          "model_module": "@jupyter-widgets/controls",
          "model_name": "HTMLModel",
          "model_module_version": "1.5.0",
          "state": {
            "_dom_classes": [],
            "_model_module": "@jupyter-widgets/controls",
            "_model_module_version": "1.5.0",
            "_model_name": "HTMLModel",
            "_view_count": null,
            "_view_module": "@jupyter-widgets/controls",
            "_view_module_version": "1.5.0",
            "_view_name": "HTMLView",
            "description": "",
            "description_tooltip": null,
            "layout": "IPY_MODEL_211edb71ff1b45ada9332b825fdd7e48",
            "placeholder": "​",
            "style": "IPY_MODEL_cc7018e447f84c0db94e392492ec6d3a",
            "value": "Downloading: 100%"
          }
        },
        "b145a68123ac464b8502c0281e7d56ea": {
          "model_module": "@jupyter-widgets/controls",
          "model_name": "FloatProgressModel",
          "model_module_version": "1.5.0",
          "state": {
            "_dom_classes": [],
            "_model_module": "@jupyter-widgets/controls",
            "_model_module_version": "1.5.0",
            "_model_name": "FloatProgressModel",
            "_view_count": null,
            "_view_module": "@jupyter-widgets/controls",
            "_view_module_version": "1.5.0",
            "_view_name": "ProgressView",
            "bar_style": "success",
            "description": "",
            "description_tooltip": null,
            "layout": "IPY_MODEL_2d9722ee681f4c35adb97942eedf92ef",
            "max": 231508,
            "min": 0,
            "orientation": "horizontal",
            "style": "IPY_MODEL_fe43822e6896404da011c4079ce25de5",
            "value": 231508
          }
        },
        "717275d2388740f4b82e8924e5fe1f33": {
          "model_module": "@jupyter-widgets/controls",
          "model_name": "HTMLModel",
          "model_module_version": "1.5.0",
          "state": {
            "_dom_classes": [],
            "_model_module": "@jupyter-widgets/controls",
            "_model_module_version": "1.5.0",
            "_model_name": "HTMLModel",
            "_view_count": null,
            "_view_module": "@jupyter-widgets/controls",
            "_view_module_version": "1.5.0",
            "_view_name": "HTMLView",
            "description": "",
            "description_tooltip": null,
            "layout": "IPY_MODEL_802901d5db6a4a64b909df959e1ab534",
            "placeholder": "​",
            "style": "IPY_MODEL_ee9a9672524544b9acd0f52f073268de",
            "value": " 226k/226k [00:00&lt;00:00, 1.99MB/s]"
          }
        },
        "6a9b28987d724c71b270c8b1175fd446": {
          "model_module": "@jupyter-widgets/base",
          "model_name": "LayoutModel",
          "model_module_version": "1.2.0",
          "state": {
            "_model_module": "@jupyter-widgets/base",
            "_model_module_version": "1.2.0",
            "_model_name": "LayoutModel",
            "_view_count": null,
            "_view_module": "@jupyter-widgets/base",
            "_view_module_version": "1.2.0",
            "_view_name": "LayoutView",
            "align_content": null,
            "align_items": null,
            "align_self": null,
            "border": null,
            "bottom": null,
            "display": null,
            "flex": null,
            "flex_flow": null,
            "grid_area": null,
            "grid_auto_columns": null,
            "grid_auto_flow": null,
            "grid_auto_rows": null,
            "grid_column": null,
            "grid_gap": null,
            "grid_row": null,
            "grid_template_areas": null,
            "grid_template_columns": null,
            "grid_template_rows": null,
            "height": null,
            "justify_content": null,
            "justify_items": null,
            "left": null,
            "margin": null,
            "max_height": null,
            "max_width": null,
            "min_height": null,
            "min_width": null,
            "object_fit": null,
            "object_position": null,
            "order": null,
            "overflow": null,
            "overflow_x": null,
            "overflow_y": null,
            "padding": null,
            "right": null,
            "top": null,
            "visibility": null,
            "width": null
          }
        },
        "211edb71ff1b45ada9332b825fdd7e48": {
          "model_module": "@jupyter-widgets/base",
          "model_name": "LayoutModel",
          "model_module_version": "1.2.0",
          "state": {
            "_model_module": "@jupyter-widgets/base",
            "_model_module_version": "1.2.0",
            "_model_name": "LayoutModel",
            "_view_count": null,
            "_view_module": "@jupyter-widgets/base",
            "_view_module_version": "1.2.0",
            "_view_name": "LayoutView",
            "align_content": null,
            "align_items": null,
            "align_self": null,
            "border": null,
            "bottom": null,
            "display": null,
            "flex": null,
            "flex_flow": null,
            "grid_area": null,
            "grid_auto_columns": null,
            "grid_auto_flow": null,
            "grid_auto_rows": null,
            "grid_column": null,
            "grid_gap": null,
            "grid_row": null,
            "grid_template_areas": null,
            "grid_template_columns": null,
            "grid_template_rows": null,
            "height": null,
            "justify_content": null,
            "justify_items": null,
            "left": null,
            "margin": null,
            "max_height": null,
            "max_width": null,
            "min_height": null,
            "min_width": null,
            "object_fit": null,
            "object_position": null,
            "order": null,
            "overflow": null,
            "overflow_x": null,
            "overflow_y": null,
            "padding": null,
            "right": null,
            "top": null,
            "visibility": null,
            "width": null
          }
        },
        "cc7018e447f84c0db94e392492ec6d3a": {
          "model_module": "@jupyter-widgets/controls",
          "model_name": "DescriptionStyleModel",
          "model_module_version": "1.5.0",
          "state": {
            "_model_module": "@jupyter-widgets/controls",
            "_model_module_version": "1.5.0",
            "_model_name": "DescriptionStyleModel",
            "_view_count": null,
            "_view_module": "@jupyter-widgets/base",
            "_view_module_version": "1.2.0",
            "_view_name": "StyleView",
            "description_width": ""
          }
        },
        "2d9722ee681f4c35adb97942eedf92ef": {
          "model_module": "@jupyter-widgets/base",
          "model_name": "LayoutModel",
          "model_module_version": "1.2.0",
          "state": {
            "_model_module": "@jupyter-widgets/base",
            "_model_module_version": "1.2.0",
            "_model_name": "LayoutModel",
            "_view_count": null,
            "_view_module": "@jupyter-widgets/base",
            "_view_module_version": "1.2.0",
            "_view_name": "LayoutView",
            "align_content": null,
            "align_items": null,
            "align_self": null,
            "border": null,
            "bottom": null,
            "display": null,
            "flex": null,
            "flex_flow": null,
            "grid_area": null,
            "grid_auto_columns": null,
            "grid_auto_flow": null,
            "grid_auto_rows": null,
            "grid_column": null,
            "grid_gap": null,
            "grid_row": null,
            "grid_template_areas": null,
            "grid_template_columns": null,
            "grid_template_rows": null,
            "height": null,
            "justify_content": null,
            "justify_items": null,
            "left": null,
            "margin": null,
            "max_height": null,
            "max_width": null,
            "min_height": null,
            "min_width": null,
            "object_fit": null,
            "object_position": null,
            "order": null,
            "overflow": null,
            "overflow_x": null,
            "overflow_y": null,
            "padding": null,
            "right": null,
            "top": null,
            "visibility": null,
            "width": null
          }
        },
        "fe43822e6896404da011c4079ce25de5": {
          "model_module": "@jupyter-widgets/controls",
          "model_name": "ProgressStyleModel",
          "model_module_version": "1.5.0",
          "state": {
            "_model_module": "@jupyter-widgets/controls",
            "_model_module_version": "1.5.0",
            "_model_name": "ProgressStyleModel",
            "_view_count": null,
            "_view_module": "@jupyter-widgets/base",
            "_view_module_version": "1.2.0",
            "_view_name": "StyleView",
            "bar_color": null,
            "description_width": ""
          }
        },
        "802901d5db6a4a64b909df959e1ab534": {
          "model_module": "@jupyter-widgets/base",
          "model_name": "LayoutModel",
          "model_module_version": "1.2.0",
          "state": {
            "_model_module": "@jupyter-widgets/base",
            "_model_module_version": "1.2.0",
            "_model_name": "LayoutModel",
            "_view_count": null,
            "_view_module": "@jupyter-widgets/base",
            "_view_module_version": "1.2.0",
            "_view_name": "LayoutView",
            "align_content": null,
            "align_items": null,
            "align_self": null,
            "border": null,
            "bottom": null,
            "display": null,
            "flex": null,
            "flex_flow": null,
            "grid_area": null,
            "grid_auto_columns": null,
            "grid_auto_flow": null,
            "grid_auto_rows": null,
            "grid_column": null,
            "grid_gap": null,
            "grid_row": null,
            "grid_template_areas": null,
            "grid_template_columns": null,
            "grid_template_rows": null,
            "height": null,
            "justify_content": null,
            "justify_items": null,
            "left": null,
            "margin": null,
            "max_height": null,
            "max_width": null,
            "min_height": null,
            "min_width": null,
            "object_fit": null,
            "object_position": null,
            "order": null,
            "overflow": null,
            "overflow_x": null,
            "overflow_y": null,
            "padding": null,
            "right": null,
            "top": null,
            "visibility": null,
            "width": null
          }
        },
        "ee9a9672524544b9acd0f52f073268de": {
          "model_module": "@jupyter-widgets/controls",
          "model_name": "DescriptionStyleModel",
          "model_module_version": "1.5.0",
          "state": {
            "_model_module": "@jupyter-widgets/controls",
            "_model_module_version": "1.5.0",
            "_model_name": "DescriptionStyleModel",
            "_view_count": null,
            "_view_module": "@jupyter-widgets/base",
            "_view_module_version": "1.2.0",
            "_view_name": "StyleView",
            "description_width": ""
          }
        },
        "c3963d6c8d6246f19dbc2531c6026f26": {
          "model_module": "@jupyter-widgets/controls",
          "model_name": "HBoxModel",
          "model_module_version": "1.5.0",
          "state": {
            "_dom_classes": [],
            "_model_module": "@jupyter-widgets/controls",
            "_model_module_version": "1.5.0",
            "_model_name": "HBoxModel",
            "_view_count": null,
            "_view_module": "@jupyter-widgets/controls",
            "_view_module_version": "1.5.0",
            "_view_name": "HBoxView",
            "box_style": "",
            "children": [
              "IPY_MODEL_e5eae37660ea4f0ca52c2444bcebc909",
              "IPY_MODEL_cdfb80b0a5d04ecf9b77f4c2d646de35",
              "IPY_MODEL_4562594376ab4269b893d5c53f126542"
            ],
            "layout": "IPY_MODEL_08b1e329d0864f19a24041af9bc3bedd"
          }
        },
        "e5eae37660ea4f0ca52c2444bcebc909": {
          "model_module": "@jupyter-widgets/controls",
          "model_name": "HTMLModel",
          "model_module_version": "1.5.0",
          "state": {
            "_dom_classes": [],
            "_model_module": "@jupyter-widgets/controls",
            "_model_module_version": "1.5.0",
            "_model_name": "HTMLModel",
            "_view_count": null,
            "_view_module": "@jupyter-widgets/controls",
            "_view_module_version": "1.5.0",
            "_view_name": "HTMLView",
            "description": "",
            "description_tooltip": null,
            "layout": "IPY_MODEL_750a449959c04dfa89b3df37439e6ad0",
            "placeholder": "​",
            "style": "IPY_MODEL_04b423d9cd454d43bc393e068ba2a53b",
            "value": "Downloading: 100%"
          }
        },
        "cdfb80b0a5d04ecf9b77f4c2d646de35": {
          "model_module": "@jupyter-widgets/controls",
          "model_name": "FloatProgressModel",
          "model_module_version": "1.5.0",
          "state": {
            "_dom_classes": [],
            "_model_module": "@jupyter-widgets/controls",
            "_model_module_version": "1.5.0",
            "_model_name": "FloatProgressModel",
            "_view_count": null,
            "_view_module": "@jupyter-widgets/controls",
            "_view_module_version": "1.5.0",
            "_view_name": "ProgressView",
            "bar_style": "success",
            "description": "",
            "description_tooltip": null,
            "layout": "IPY_MODEL_2c1387c31e4d4a72802e8f81c25c54c4",
            "max": 28,
            "min": 0,
            "orientation": "horizontal",
            "style": "IPY_MODEL_95067a2c80db46f98dcc93ecfa5831ca",
            "value": 28
          }
        },
        "4562594376ab4269b893d5c53f126542": {
          "model_module": "@jupyter-widgets/controls",
          "model_name": "HTMLModel",
          "model_module_version": "1.5.0",
          "state": {
            "_dom_classes": [],
            "_model_module": "@jupyter-widgets/controls",
            "_model_module_version": "1.5.0",
            "_model_name": "HTMLModel",
            "_view_count": null,
            "_view_module": "@jupyter-widgets/controls",
            "_view_module_version": "1.5.0",
            "_view_name": "HTMLView",
            "description": "",
            "description_tooltip": null,
            "layout": "IPY_MODEL_21b3e39bc54d4f079ff2e1b66627af90",
            "placeholder": "​",
            "style": "IPY_MODEL_1a8a1f6ebf0e4a938fbc5cd5b220832a",
            "value": " 28.0/28.0 [00:00&lt;00:00, 861B/s]"
          }
        },
        "08b1e329d0864f19a24041af9bc3bedd": {
          "model_module": "@jupyter-widgets/base",
          "model_name": "LayoutModel",
          "model_module_version": "1.2.0",
          "state": {
            "_model_module": "@jupyter-widgets/base",
            "_model_module_version": "1.2.0",
            "_model_name": "LayoutModel",
            "_view_count": null,
            "_view_module": "@jupyter-widgets/base",
            "_view_module_version": "1.2.0",
            "_view_name": "LayoutView",
            "align_content": null,
            "align_items": null,
            "align_self": null,
            "border": null,
            "bottom": null,
            "display": null,
            "flex": null,
            "flex_flow": null,
            "grid_area": null,
            "grid_auto_columns": null,
            "grid_auto_flow": null,
            "grid_auto_rows": null,
            "grid_column": null,
            "grid_gap": null,
            "grid_row": null,
            "grid_template_areas": null,
            "grid_template_columns": null,
            "grid_template_rows": null,
            "height": null,
            "justify_content": null,
            "justify_items": null,
            "left": null,
            "margin": null,
            "max_height": null,
            "max_width": null,
            "min_height": null,
            "min_width": null,
            "object_fit": null,
            "object_position": null,
            "order": null,
            "overflow": null,
            "overflow_x": null,
            "overflow_y": null,
            "padding": null,
            "right": null,
            "top": null,
            "visibility": null,
            "width": null
          }
        },
        "750a449959c04dfa89b3df37439e6ad0": {
          "model_module": "@jupyter-widgets/base",
          "model_name": "LayoutModel",
          "model_module_version": "1.2.0",
          "state": {
            "_model_module": "@jupyter-widgets/base",
            "_model_module_version": "1.2.0",
            "_model_name": "LayoutModel",
            "_view_count": null,
            "_view_module": "@jupyter-widgets/base",
            "_view_module_version": "1.2.0",
            "_view_name": "LayoutView",
            "align_content": null,
            "align_items": null,
            "align_self": null,
            "border": null,
            "bottom": null,
            "display": null,
            "flex": null,
            "flex_flow": null,
            "grid_area": null,
            "grid_auto_columns": null,
            "grid_auto_flow": null,
            "grid_auto_rows": null,
            "grid_column": null,
            "grid_gap": null,
            "grid_row": null,
            "grid_template_areas": null,
            "grid_template_columns": null,
            "grid_template_rows": null,
            "height": null,
            "justify_content": null,
            "justify_items": null,
            "left": null,
            "margin": null,
            "max_height": null,
            "max_width": null,
            "min_height": null,
            "min_width": null,
            "object_fit": null,
            "object_position": null,
            "order": null,
            "overflow": null,
            "overflow_x": null,
            "overflow_y": null,
            "padding": null,
            "right": null,
            "top": null,
            "visibility": null,
            "width": null
          }
        },
        "04b423d9cd454d43bc393e068ba2a53b": {
          "model_module": "@jupyter-widgets/controls",
          "model_name": "DescriptionStyleModel",
          "model_module_version": "1.5.0",
          "state": {
            "_model_module": "@jupyter-widgets/controls",
            "_model_module_version": "1.5.0",
            "_model_name": "DescriptionStyleModel",
            "_view_count": null,
            "_view_module": "@jupyter-widgets/base",
            "_view_module_version": "1.2.0",
            "_view_name": "StyleView",
            "description_width": ""
          }
        },
        "2c1387c31e4d4a72802e8f81c25c54c4": {
          "model_module": "@jupyter-widgets/base",
          "model_name": "LayoutModel",
          "model_module_version": "1.2.0",
          "state": {
            "_model_module": "@jupyter-widgets/base",
            "_model_module_version": "1.2.0",
            "_model_name": "LayoutModel",
            "_view_count": null,
            "_view_module": "@jupyter-widgets/base",
            "_view_module_version": "1.2.0",
            "_view_name": "LayoutView",
            "align_content": null,
            "align_items": null,
            "align_self": null,
            "border": null,
            "bottom": null,
            "display": null,
            "flex": null,
            "flex_flow": null,
            "grid_area": null,
            "grid_auto_columns": null,
            "grid_auto_flow": null,
            "grid_auto_rows": null,
            "grid_column": null,
            "grid_gap": null,
            "grid_row": null,
            "grid_template_areas": null,
            "grid_template_columns": null,
            "grid_template_rows": null,
            "height": null,
            "justify_content": null,
            "justify_items": null,
            "left": null,
            "margin": null,
            "max_height": null,
            "max_width": null,
            "min_height": null,
            "min_width": null,
            "object_fit": null,
            "object_position": null,
            "order": null,
            "overflow": null,
            "overflow_x": null,
            "overflow_y": null,
            "padding": null,
            "right": null,
            "top": null,
            "visibility": null,
            "width": null
          }
        },
        "95067a2c80db46f98dcc93ecfa5831ca": {
          "model_module": "@jupyter-widgets/controls",
          "model_name": "ProgressStyleModel",
          "model_module_version": "1.5.0",
          "state": {
            "_model_module": "@jupyter-widgets/controls",
            "_model_module_version": "1.5.0",
            "_model_name": "ProgressStyleModel",
            "_view_count": null,
            "_view_module": "@jupyter-widgets/base",
            "_view_module_version": "1.2.0",
            "_view_name": "StyleView",
            "bar_color": null,
            "description_width": ""
          }
        },
        "21b3e39bc54d4f079ff2e1b66627af90": {
          "model_module": "@jupyter-widgets/base",
          "model_name": "LayoutModel",
          "model_module_version": "1.2.0",
          "state": {
            "_model_module": "@jupyter-widgets/base",
            "_model_module_version": "1.2.0",
            "_model_name": "LayoutModel",
            "_view_count": null,
            "_view_module": "@jupyter-widgets/base",
            "_view_module_version": "1.2.0",
            "_view_name": "LayoutView",
            "align_content": null,
            "align_items": null,
            "align_self": null,
            "border": null,
            "bottom": null,
            "display": null,
            "flex": null,
            "flex_flow": null,
            "grid_area": null,
            "grid_auto_columns": null,
            "grid_auto_flow": null,
            "grid_auto_rows": null,
            "grid_column": null,
            "grid_gap": null,
            "grid_row": null,
            "grid_template_areas": null,
            "grid_template_columns": null,
            "grid_template_rows": null,
            "height": null,
            "justify_content": null,
            "justify_items": null,
            "left": null,
            "margin": null,
            "max_height": null,
            "max_width": null,
            "min_height": null,
            "min_width": null,
            "object_fit": null,
            "object_position": null,
            "order": null,
            "overflow": null,
            "overflow_x": null,
            "overflow_y": null,
            "padding": null,
            "right": null,
            "top": null,
            "visibility": null,
            "width": null
          }
        },
        "1a8a1f6ebf0e4a938fbc5cd5b220832a": {
          "model_module": "@jupyter-widgets/controls",
          "model_name": "DescriptionStyleModel",
          "model_module_version": "1.5.0",
          "state": {
            "_model_module": "@jupyter-widgets/controls",
            "_model_module_version": "1.5.0",
            "_model_name": "DescriptionStyleModel",
            "_view_count": null,
            "_view_module": "@jupyter-widgets/base",
            "_view_module_version": "1.2.0",
            "_view_name": "StyleView",
            "description_width": ""
          }
        },
        "096b47dac4a24d3998b78055b818593b": {
          "model_module": "@jupyter-widgets/controls",
          "model_name": "HBoxModel",
          "model_module_version": "1.5.0",
          "state": {
            "_dom_classes": [],
            "_model_module": "@jupyter-widgets/controls",
            "_model_module_version": "1.5.0",
            "_model_name": "HBoxModel",
            "_view_count": null,
            "_view_module": "@jupyter-widgets/controls",
            "_view_module_version": "1.5.0",
            "_view_name": "HBoxView",
            "box_style": "",
            "children": [
              "IPY_MODEL_5cbc0462a793478db580f01db6d288f5",
              "IPY_MODEL_433d503982da4c89bdbb7897d4e3f886",
              "IPY_MODEL_990ef27911274c01953b4adb1ab72e4a"
            ],
            "layout": "IPY_MODEL_9266279aad3740f884ec7f513f9ac6b3"
          }
        },
        "5cbc0462a793478db580f01db6d288f5": {
          "model_module": "@jupyter-widgets/controls",
          "model_name": "HTMLModel",
          "model_module_version": "1.5.0",
          "state": {
            "_dom_classes": [],
            "_model_module": "@jupyter-widgets/controls",
            "_model_module_version": "1.5.0",
            "_model_name": "HTMLModel",
            "_view_count": null,
            "_view_module": "@jupyter-widgets/controls",
            "_view_module_version": "1.5.0",
            "_view_name": "HTMLView",
            "description": "",
            "description_tooltip": null,
            "layout": "IPY_MODEL_b70da2afe8ab4dfabd08c21764e48821",
            "placeholder": "​",
            "style": "IPY_MODEL_1eeb116169534c78842d22b6b8e2fa41",
            "value": "Downloading: 100%"
          }
        },
        "433d503982da4c89bdbb7897d4e3f886": {
          "model_module": "@jupyter-widgets/controls",
          "model_name": "FloatProgressModel",
          "model_module_version": "1.5.0",
          "state": {
            "_dom_classes": [],
            "_model_module": "@jupyter-widgets/controls",
            "_model_module_version": "1.5.0",
            "_model_name": "FloatProgressModel",
            "_view_count": null,
            "_view_module": "@jupyter-widgets/controls",
            "_view_module_version": "1.5.0",
            "_view_name": "ProgressView",
            "bar_style": "success",
            "description": "",
            "description_tooltip": null,
            "layout": "IPY_MODEL_9dcab4212d184d83bafd3dc4eaff688d",
            "max": 570,
            "min": 0,
            "orientation": "horizontal",
            "style": "IPY_MODEL_a3608a58179d4f6fbd344556e901d99d",
            "value": 570
          }
        },
        "990ef27911274c01953b4adb1ab72e4a": {
          "model_module": "@jupyter-widgets/controls",
          "model_name": "HTMLModel",
          "model_module_version": "1.5.0",
          "state": {
            "_dom_classes": [],
            "_model_module": "@jupyter-widgets/controls",
            "_model_module_version": "1.5.0",
            "_model_name": "HTMLModel",
            "_view_count": null,
            "_view_module": "@jupyter-widgets/controls",
            "_view_module_version": "1.5.0",
            "_view_name": "HTMLView",
            "description": "",
            "description_tooltip": null,
            "layout": "IPY_MODEL_3c9d4e83b13d4c47910750b5c56bb86c",
            "placeholder": "​",
            "style": "IPY_MODEL_df95e24a8c5c4b49a5d8a7f2e916ac9e",
            "value": " 570/570 [00:00&lt;00:00, 17.2kB/s]"
          }
        },
        "9266279aad3740f884ec7f513f9ac6b3": {
          "model_module": "@jupyter-widgets/base",
          "model_name": "LayoutModel",
          "model_module_version": "1.2.0",
          "state": {
            "_model_module": "@jupyter-widgets/base",
            "_model_module_version": "1.2.0",
            "_model_name": "LayoutModel",
            "_view_count": null,
            "_view_module": "@jupyter-widgets/base",
            "_view_module_version": "1.2.0",
            "_view_name": "LayoutView",
            "align_content": null,
            "align_items": null,
            "align_self": null,
            "border": null,
            "bottom": null,
            "display": null,
            "flex": null,
            "flex_flow": null,
            "grid_area": null,
            "grid_auto_columns": null,
            "grid_auto_flow": null,
            "grid_auto_rows": null,
            "grid_column": null,
            "grid_gap": null,
            "grid_row": null,
            "grid_template_areas": null,
            "grid_template_columns": null,
            "grid_template_rows": null,
            "height": null,
            "justify_content": null,
            "justify_items": null,
            "left": null,
            "margin": null,
            "max_height": null,
            "max_width": null,
            "min_height": null,
            "min_width": null,
            "object_fit": null,
            "object_position": null,
            "order": null,
            "overflow": null,
            "overflow_x": null,
            "overflow_y": null,
            "padding": null,
            "right": null,
            "top": null,
            "visibility": null,
            "width": null
          }
        },
        "b70da2afe8ab4dfabd08c21764e48821": {
          "model_module": "@jupyter-widgets/base",
          "model_name": "LayoutModel",
          "model_module_version": "1.2.0",
          "state": {
            "_model_module": "@jupyter-widgets/base",
            "_model_module_version": "1.2.0",
            "_model_name": "LayoutModel",
            "_view_count": null,
            "_view_module": "@jupyter-widgets/base",
            "_view_module_version": "1.2.0",
            "_view_name": "LayoutView",
            "align_content": null,
            "align_items": null,
            "align_self": null,
            "border": null,
            "bottom": null,
            "display": null,
            "flex": null,
            "flex_flow": null,
            "grid_area": null,
            "grid_auto_columns": null,
            "grid_auto_flow": null,
            "grid_auto_rows": null,
            "grid_column": null,
            "grid_gap": null,
            "grid_row": null,
            "grid_template_areas": null,
            "grid_template_columns": null,
            "grid_template_rows": null,
            "height": null,
            "justify_content": null,
            "justify_items": null,
            "left": null,
            "margin": null,
            "max_height": null,
            "max_width": null,
            "min_height": null,
            "min_width": null,
            "object_fit": null,
            "object_position": null,
            "order": null,
            "overflow": null,
            "overflow_x": null,
            "overflow_y": null,
            "padding": null,
            "right": null,
            "top": null,
            "visibility": null,
            "width": null
          }
        },
        "1eeb116169534c78842d22b6b8e2fa41": {
          "model_module": "@jupyter-widgets/controls",
          "model_name": "DescriptionStyleModel",
          "model_module_version": "1.5.0",
          "state": {
            "_model_module": "@jupyter-widgets/controls",
            "_model_module_version": "1.5.0",
            "_model_name": "DescriptionStyleModel",
            "_view_count": null,
            "_view_module": "@jupyter-widgets/base",
            "_view_module_version": "1.2.0",
            "_view_name": "StyleView",
            "description_width": ""
          }
        },
        "9dcab4212d184d83bafd3dc4eaff688d": {
          "model_module": "@jupyter-widgets/base",
          "model_name": "LayoutModel",
          "model_module_version": "1.2.0",
          "state": {
            "_model_module": "@jupyter-widgets/base",
            "_model_module_version": "1.2.0",
            "_model_name": "LayoutModel",
            "_view_count": null,
            "_view_module": "@jupyter-widgets/base",
            "_view_module_version": "1.2.0",
            "_view_name": "LayoutView",
            "align_content": null,
            "align_items": null,
            "align_self": null,
            "border": null,
            "bottom": null,
            "display": null,
            "flex": null,
            "flex_flow": null,
            "grid_area": null,
            "grid_auto_columns": null,
            "grid_auto_flow": null,
            "grid_auto_rows": null,
            "grid_column": null,
            "grid_gap": null,
            "grid_row": null,
            "grid_template_areas": null,
            "grid_template_columns": null,
            "grid_template_rows": null,
            "height": null,
            "justify_content": null,
            "justify_items": null,
            "left": null,
            "margin": null,
            "max_height": null,
            "max_width": null,
            "min_height": null,
            "min_width": null,
            "object_fit": null,
            "object_position": null,
            "order": null,
            "overflow": null,
            "overflow_x": null,
            "overflow_y": null,
            "padding": null,
            "right": null,
            "top": null,
            "visibility": null,
            "width": null
          }
        },
        "a3608a58179d4f6fbd344556e901d99d": {
          "model_module": "@jupyter-widgets/controls",
          "model_name": "ProgressStyleModel",
          "model_module_version": "1.5.0",
          "state": {
            "_model_module": "@jupyter-widgets/controls",
            "_model_module_version": "1.5.0",
            "_model_name": "ProgressStyleModel",
            "_view_count": null,
            "_view_module": "@jupyter-widgets/base",
            "_view_module_version": "1.2.0",
            "_view_name": "StyleView",
            "bar_color": null,
            "description_width": ""
          }
        },
        "3c9d4e83b13d4c47910750b5c56bb86c": {
          "model_module": "@jupyter-widgets/base",
          "model_name": "LayoutModel",
          "model_module_version": "1.2.0",
          "state": {
            "_model_module": "@jupyter-widgets/base",
            "_model_module_version": "1.2.0",
            "_model_name": "LayoutModel",
            "_view_count": null,
            "_view_module": "@jupyter-widgets/base",
            "_view_module_version": "1.2.0",
            "_view_name": "LayoutView",
            "align_content": null,
            "align_items": null,
            "align_self": null,
            "border": null,
            "bottom": null,
            "display": null,
            "flex": null,
            "flex_flow": null,
            "grid_area": null,
            "grid_auto_columns": null,
            "grid_auto_flow": null,
            "grid_auto_rows": null,
            "grid_column": null,
            "grid_gap": null,
            "grid_row": null,
            "grid_template_areas": null,
            "grid_template_columns": null,
            "grid_template_rows": null,
            "height": null,
            "justify_content": null,
            "justify_items": null,
            "left": null,
            "margin": null,
            "max_height": null,
            "max_width": null,
            "min_height": null,
            "min_width": null,
            "object_fit": null,
            "object_position": null,
            "order": null,
            "overflow": null,
            "overflow_x": null,
            "overflow_y": null,
            "padding": null,
            "right": null,
            "top": null,
            "visibility": null,
            "width": null
          }
        },
        "df95e24a8c5c4b49a5d8a7f2e916ac9e": {
          "model_module": "@jupyter-widgets/controls",
          "model_name": "DescriptionStyleModel",
          "model_module_version": "1.5.0",
          "state": {
            "_model_module": "@jupyter-widgets/controls",
            "_model_module_version": "1.5.0",
            "_model_name": "DescriptionStyleModel",
            "_view_count": null,
            "_view_module": "@jupyter-widgets/base",
            "_view_module_version": "1.2.0",
            "_view_name": "StyleView",
            "description_width": ""
          }
        }
      }
    }
  },
  "cells": [
    {
      "cell_type": "code",
      "source": [
        "!pip install transformers\n",
        "!pip install torch"
      ],
      "metadata": {
        "id": "uWw1Ng5mTYkU"
      },
      "execution_count": null,
      "outputs": []
    },
    {
      "cell_type": "code",
      "source": [
        "import torch\n",
        "from torch import nn\n",
        "from transformers import BertModel, BertTokenizer\n",
        "from torch.utils.data import Dataset\n",
        "\n",
        "import pandas as pd"
      ],
      "metadata": {
        "id": "lWlbYowAcEDJ"
      },
      "execution_count": 2,
      "outputs": []
    },
    {
      "cell_type": "code",
      "source": [
        "from sklearn.model_selection import train_test_split\n",
        "import numpy as np\n",
        "from sklearn.metrics import classification_report\n",
        "from sklearn.metrics import confusion_matrix"
      ],
      "metadata": {
        "id": "g7ygZGVNTrwH"
      },
      "execution_count": 37,
      "outputs": []
    },
    {
      "cell_type": "code",
      "source": [
        "df = pd.read_csv('train.csv')"
      ],
      "metadata": {
        "id": "4rVSSfm9my54"
      },
      "execution_count": 3,
      "outputs": []
    },
    {
      "cell_type": "code",
      "source": [
        "df.head()"
      ],
      "metadata": {
        "colab": {
          "base_uri": "https://localhost:8080/",
          "height": 206
        },
        "id": "2hUTsJiHm25Y",
        "outputId": "609f7794-6f21-41c2-821f-b115a4450652"
      },
      "execution_count": 48,
      "outputs": [
        {
          "output_type": "execute_result",
          "data": {
            "text/plain": [
              "                                                text  label\n",
              "0      rCriticalSection & rSemaphore removed     ...      1\n",
              "1      [ALSA] Improve SPDIF playback via the P16V...      0\n",
              "2      KVM: Change the emulator_{read write cmpxc...      0\n",
              "3      Bump test projects up to .NET 4.5.2     - ...      0\n",
              "4      Update proto name to fix Windows portabili...      1"
            ],
            "text/html": [
              "\n",
              "  <div id=\"df-a420b4fd-e894-4fc3-84ef-591ae6337e2a\">\n",
              "    <div class=\"colab-df-container\">\n",
              "      <div>\n",
              "<style scoped>\n",
              "    .dataframe tbody tr th:only-of-type {\n",
              "        vertical-align: middle;\n",
              "    }\n",
              "\n",
              "    .dataframe tbody tr th {\n",
              "        vertical-align: top;\n",
              "    }\n",
              "\n",
              "    .dataframe thead th {\n",
              "        text-align: right;\n",
              "    }\n",
              "</style>\n",
              "<table border=\"1\" class=\"dataframe\">\n",
              "  <thead>\n",
              "    <tr style=\"text-align: right;\">\n",
              "      <th></th>\n",
              "      <th>text</th>\n",
              "      <th>label</th>\n",
              "    </tr>\n",
              "  </thead>\n",
              "  <tbody>\n",
              "    <tr>\n",
              "      <th>0</th>\n",
              "      <td>rCriticalSection &amp; rSemaphore removed     ...</td>\n",
              "      <td>1</td>\n",
              "    </tr>\n",
              "    <tr>\n",
              "      <th>1</th>\n",
              "      <td>[ALSA] Improve SPDIF playback via the P16V...</td>\n",
              "      <td>0</td>\n",
              "    </tr>\n",
              "    <tr>\n",
              "      <th>2</th>\n",
              "      <td>KVM: Change the emulator_{read write cmpxc...</td>\n",
              "      <td>0</td>\n",
              "    </tr>\n",
              "    <tr>\n",
              "      <th>3</th>\n",
              "      <td>Bump test projects up to .NET 4.5.2     - ...</td>\n",
              "      <td>0</td>\n",
              "    </tr>\n",
              "    <tr>\n",
              "      <th>4</th>\n",
              "      <td>Update proto name to fix Windows portabili...</td>\n",
              "      <td>1</td>\n",
              "    </tr>\n",
              "  </tbody>\n",
              "</table>\n",
              "</div>\n",
              "      <button class=\"colab-df-convert\" onclick=\"convertToInteractive('df-a420b4fd-e894-4fc3-84ef-591ae6337e2a')\"\n",
              "              title=\"Convert this dataframe to an interactive table.\"\n",
              "              style=\"display:none;\">\n",
              "        \n",
              "  <svg xmlns=\"http://www.w3.org/2000/svg\" height=\"24px\"viewBox=\"0 0 24 24\"\n",
              "       width=\"24px\">\n",
              "    <path d=\"M0 0h24v24H0V0z\" fill=\"none\"/>\n",
              "    <path d=\"M18.56 5.44l.94 2.06.94-2.06 2.06-.94-2.06-.94-.94-2.06-.94 2.06-2.06.94zm-11 1L8.5 8.5l.94-2.06 2.06-.94-2.06-.94L8.5 2.5l-.94 2.06-2.06.94zm10 10l.94 2.06.94-2.06 2.06-.94-2.06-.94-.94-2.06-.94 2.06-2.06.94z\"/><path d=\"M17.41 7.96l-1.37-1.37c-.4-.4-.92-.59-1.43-.59-.52 0-1.04.2-1.43.59L10.3 9.45l-7.72 7.72c-.78.78-.78 2.05 0 2.83L4 21.41c.39.39.9.59 1.41.59.51 0 1.02-.2 1.41-.59l7.78-7.78 2.81-2.81c.8-.78.8-2.07 0-2.86zM5.41 20L4 18.59l7.72-7.72 1.47 1.35L5.41 20z\"/>\n",
              "  </svg>\n",
              "      </button>\n",
              "      \n",
              "  <style>\n",
              "    .colab-df-container {\n",
              "      display:flex;\n",
              "      flex-wrap:wrap;\n",
              "      gap: 12px;\n",
              "    }\n",
              "\n",
              "    .colab-df-convert {\n",
              "      background-color: #E8F0FE;\n",
              "      border: none;\n",
              "      border-radius: 50%;\n",
              "      cursor: pointer;\n",
              "      display: none;\n",
              "      fill: #1967D2;\n",
              "      height: 32px;\n",
              "      padding: 0 0 0 0;\n",
              "      width: 32px;\n",
              "    }\n",
              "\n",
              "    .colab-df-convert:hover {\n",
              "      background-color: #E2EBFA;\n",
              "      box-shadow: 0px 1px 2px rgba(60, 64, 67, 0.3), 0px 1px 3px 1px rgba(60, 64, 67, 0.15);\n",
              "      fill: #174EA6;\n",
              "    }\n",
              "\n",
              "    [theme=dark] .colab-df-convert {\n",
              "      background-color: #3B4455;\n",
              "      fill: #D2E3FC;\n",
              "    }\n",
              "\n",
              "    [theme=dark] .colab-df-convert:hover {\n",
              "      background-color: #434B5C;\n",
              "      box-shadow: 0px 1px 3px 1px rgba(0, 0, 0, 0.15);\n",
              "      filter: drop-shadow(0px 1px 2px rgba(0, 0, 0, 0.3));\n",
              "      fill: #FFFFFF;\n",
              "    }\n",
              "  </style>\n",
              "\n",
              "      <script>\n",
              "        const buttonEl =\n",
              "          document.querySelector('#df-a420b4fd-e894-4fc3-84ef-591ae6337e2a button.colab-df-convert');\n",
              "        buttonEl.style.display =\n",
              "          google.colab.kernel.accessAllowed ? 'block' : 'none';\n",
              "\n",
              "        async function convertToInteractive(key) {\n",
              "          const element = document.querySelector('#df-a420b4fd-e894-4fc3-84ef-591ae6337e2a');\n",
              "          const dataTable =\n",
              "            await google.colab.kernel.invokeFunction('convertToInteractive',\n",
              "                                                     [key], {});\n",
              "          if (!dataTable) return;\n",
              "\n",
              "          const docLinkHtml = 'Like what you see? Visit the ' +\n",
              "            '<a target=\"_blank\" href=https://colab.research.google.com/notebooks/data_table.ipynb>data table notebook</a>'\n",
              "            + ' to learn more about interactive tables.';\n",
              "          element.innerHTML = '';\n",
              "          dataTable['output_type'] = 'display_data';\n",
              "          await google.colab.output.renderOutput(dataTable, element);\n",
              "          const docLink = document.createElement('div');\n",
              "          docLink.innerHTML = docLinkHtml;\n",
              "          element.appendChild(docLink);\n",
              "        }\n",
              "      </script>\n",
              "    </div>\n",
              "  </div>\n",
              "  "
            ]
          },
          "metadata": {},
          "execution_count": 48
        }
      ]
    },
    {
      "cell_type": "code",
      "source": [
        "df_v = df.sample(frac=0.1)"
      ],
      "metadata": {
        "id": "SDDYxwhFVNuf"
      },
      "execution_count": 49,
      "outputs": []
    },
    {
      "cell_type": "code",
      "source": [
        "df_t = df.drop(df_v.index).reset_index(drop=True)"
      ],
      "metadata": {
        "id": "JpvREB7iVVlH"
      },
      "execution_count": 50,
      "outputs": []
    },
    {
      "cell_type": "code",
      "source": [
        "df_v = df_v.reset_index(drop=True)"
      ],
      "metadata": {
        "id": "5F34L6ocVyHX"
      },
      "execution_count": 51,
      "outputs": []
    },
    {
      "cell_type": "code",
      "source": [
        "tokenizer = BertTokenizer.from_pretrained('bert-base-uncased')"
      ],
      "metadata": {
        "colab": {
          "base_uri": "https://localhost:8080/",
          "height": 113,
          "referenced_widgets": [
            "a3be888d081547de8f35c0236f7631e6",
            "ee00f3b0e4794c2f89604c576f19cd0b",
            "b145a68123ac464b8502c0281e7d56ea",
            "717275d2388740f4b82e8924e5fe1f33",
            "6a9b28987d724c71b270c8b1175fd446",
            "211edb71ff1b45ada9332b825fdd7e48",
            "cc7018e447f84c0db94e392492ec6d3a",
            "2d9722ee681f4c35adb97942eedf92ef",
            "fe43822e6896404da011c4079ce25de5",
            "802901d5db6a4a64b909df959e1ab534",
            "ee9a9672524544b9acd0f52f073268de",
            "c3963d6c8d6246f19dbc2531c6026f26",
            "e5eae37660ea4f0ca52c2444bcebc909",
            "cdfb80b0a5d04ecf9b77f4c2d646de35",
            "4562594376ab4269b893d5c53f126542",
            "08b1e329d0864f19a24041af9bc3bedd",
            "750a449959c04dfa89b3df37439e6ad0",
            "04b423d9cd454d43bc393e068ba2a53b",
            "2c1387c31e4d4a72802e8f81c25c54c4",
            "95067a2c80db46f98dcc93ecfa5831ca",
            "21b3e39bc54d4f079ff2e1b66627af90",
            "1a8a1f6ebf0e4a938fbc5cd5b220832a",
            "096b47dac4a24d3998b78055b818593b",
            "5cbc0462a793478db580f01db6d288f5",
            "433d503982da4c89bdbb7897d4e3f886",
            "990ef27911274c01953b4adb1ab72e4a",
            "9266279aad3740f884ec7f513f9ac6b3",
            "b70da2afe8ab4dfabd08c21764e48821",
            "1eeb116169534c78842d22b6b8e2fa41",
            "9dcab4212d184d83bafd3dc4eaff688d",
            "a3608a58179d4f6fbd344556e901d99d",
            "3c9d4e83b13d4c47910750b5c56bb86c",
            "df95e24a8c5c4b49a5d8a7f2e916ac9e"
          ]
        },
        "id": "aAO3zO9QpodI",
        "outputId": "852ba5c5-908a-4868-e03b-e5f27b7e30c7"
      },
      "execution_count": 6,
      "outputs": [
        {
          "output_type": "display_data",
          "data": {
            "text/plain": [
              "Downloading:   0%|          | 0.00/226k [00:00<?, ?B/s]"
            ],
            "application/vnd.jupyter.widget-view+json": {
              "version_major": 2,
              "version_minor": 0,
              "model_id": "a3be888d081547de8f35c0236f7631e6"
            }
          },
          "metadata": {}
        },
        {
          "output_type": "display_data",
          "data": {
            "text/plain": [
              "Downloading:   0%|          | 0.00/28.0 [00:00<?, ?B/s]"
            ],
            "application/vnd.jupyter.widget-view+json": {
              "version_major": 2,
              "version_minor": 0,
              "model_id": "c3963d6c8d6246f19dbc2531c6026f26"
            }
          },
          "metadata": {}
        },
        {
          "output_type": "display_data",
          "data": {
            "text/plain": [
              "Downloading:   0%|          | 0.00/570 [00:00<?, ?B/s]"
            ],
            "application/vnd.jupyter.widget-view+json": {
              "version_major": 2,
              "version_minor": 0,
              "model_id": "096b47dac4a24d3998b78055b818593b"
            }
          },
          "metadata": {}
        }
      ]
    },
    {
      "cell_type": "code",
      "source": [
        "class BertClassifier(nn.Module):\n",
        "  def __init__(self):\n",
        "    super(BertClassifier, self).__init__()\n",
        "    self.bert = BertModel.from_pretrained('bert-base-uncased')\n",
        "    self.linear = nn.Linear(768, 1)\n",
        "    self.sigmoid = nn.Sigmoid()\n",
        "\n",
        "  def forward(self, input_id, mask):\n",
        "    _, pooled_output = self.bert(input_ids= input_id, attention_mask=mask,return_dict=False)\n",
        "    linear_output = self.linear(pooled_output)\n",
        "    final_output = self.sigmoid(linear_output)\n",
        "\n",
        "    return final_output"
      ],
      "metadata": {
        "id": "d5825zimTnl-"
      },
      "execution_count": 4,
      "outputs": []
    },
    {
      "cell_type": "code",
      "source": [
        "class CustomDataset(Dataset):\n",
        "  def __init__(self, df, tokenizer, max_len):\n",
        "    self.df = df\n",
        "    self.titles = df['text']\n",
        "    self.labels = df['label']\n",
        "    self.max_len = max_len\n",
        "    self.tokenizer = tokenizer\n",
        "\n",
        "  def __getitem__(self, index):\n",
        "    title = self.titles[index]\n",
        "    inputs = self.tokenizer.encode_plus(\n",
        "            title,\n",
        "            None,\n",
        "            add_special_tokens=True,\n",
        "            max_length=self.max_len,\n",
        "            padding='max_length',\n",
        "            return_token_type_ids=True,\n",
        "            truncation=True,\n",
        "            return_attention_mask=True,\n",
        "            return_tensors='pt'\n",
        "        )\n",
        "\n",
        "    return {\n",
        "          'input_ids': inputs['input_ids'].flatten(),\n",
        "          'attention_mask': inputs['attention_mask'].flatten(),\n",
        "          'token_type_ids': inputs[\"token_type_ids\"].flatten(),\n",
        "          'targets': torch.tensor([self.labels[index]], dtype=torch.float)\n",
        "    }\n",
        "\n",
        "  \n",
        "  def __len__(self):\n",
        "    return len(self.titles)\n"
      ],
      "metadata": {
        "id": "lHqI3WDmdNaI"
      },
      "execution_count": 5,
      "outputs": []
    },
    {
      "cell_type": "code",
      "source": [
        "train_dataset = CustomDataset(df_t, tokenizer, 56)\n",
        "validation_dataset = CustomDataset(df_v, tokenizer, 56)"
      ],
      "metadata": {
        "id": "XX6UQoK7pJtw"
      },
      "execution_count": 52,
      "outputs": []
    },
    {
      "cell_type": "code",
      "source": [
        "train_dataset[1], validation_dataset[0]"
      ],
      "metadata": {
        "colab": {
          "base_uri": "https://localhost:8080/"
        },
        "id": "hGLVghzOp1Ct",
        "outputId": "b61295e2-c233-4f2f-915d-dce9c928958b"
      },
      "execution_count": null,
      "outputs": [
        {
          "output_type": "execute_result",
          "data": {
            "text/plain": [
              "({'attention_mask': tensor([1, 1, 1, 1, 1, 1, 1, 1, 1, 1, 1, 1, 1, 1, 1, 1, 1, 1, 1, 1, 1, 1, 1, 1,\n",
              "          1, 1, 1, 1, 1, 1, 1, 1, 1, 1, 1, 1, 1, 1, 1, 1, 1, 1, 1, 1, 1, 1, 1, 1,\n",
              "          1, 1, 1, 1, 1, 1, 1, 1]),\n",
              "  'input_ids': tensor([  101, 24888,  2213,  1024,  2689,  1996,  7861, 20350,  1035,  1063,\n",
              "           3191,  4339,  4642,  2361,  2595,  2818,  2290,  1065,  1035,  1008,\n",
              "           4972,  2000,  2202,  1037, 18315, 14289,  1012,  1012,  1012,  2612,\n",
              "           1997,  1037,  1060, 20842,  1035,  7861,  9869,  1035, 14931, 18413,\n",
              "           2061,  2008,  2060, 20587,  2015,  2064,  2224,  2009,  4089,  1012,\n",
              "           2772,  1011,  2125,  1011,  2011,   102]),\n",
              "  'targets': tensor([0.]),\n",
              "  'token_type_ids': tensor([0, 0, 0, 0, 0, 0, 0, 0, 0, 0, 0, 0, 0, 0, 0, 0, 0, 0, 0, 0, 0, 0, 0, 0,\n",
              "          0, 0, 0, 0, 0, 0, 0, 0, 0, 0, 0, 0, 0, 0, 0, 0, 0, 0, 0, 0, 0, 0, 0, 0,\n",
              "          0, 0, 0, 0, 0, 0, 0, 0])},\n",
              " {'attention_mask': tensor([1, 1, 1, 1, 1, 1, 1, 1, 1, 1, 1, 1, 1, 1, 1, 1, 1, 1, 1, 1, 1, 1, 1, 1,\n",
              "          1, 1, 1, 1, 1, 1, 1, 1, 1, 0, 0, 0, 0, 0, 0, 0, 0, 0, 0, 0, 0, 0, 0, 0,\n",
              "          0, 0, 0, 0, 0, 0, 0, 0]),\n",
              "  'input_ids': tensor([  101,  5587,  8299,  1035,  4180,  7770, 13512,  2232,  2005, 28283,\n",
              "          25300, 10074,  5097,  2772,  1011,  2125,  1011,  2011,  1024,  4074,\n",
              "           8547,  1026,  4074, 13348,  2015,  2475,  1030, 20917,  4014,  1012,\n",
              "           4012,  1028,   102,     0,     0,     0,     0,     0,     0,     0,\n",
              "              0,     0,     0,     0,     0,     0,     0,     0,     0,     0,\n",
              "              0,     0,     0,     0,     0,     0]),\n",
              "  'targets': tensor([0.]),\n",
              "  'token_type_ids': tensor([0, 0, 0, 0, 0, 0, 0, 0, 0, 0, 0, 0, 0, 0, 0, 0, 0, 0, 0, 0, 0, 0, 0, 0,\n",
              "          0, 0, 0, 0, 0, 0, 0, 0, 0, 0, 0, 0, 0, 0, 0, 0, 0, 0, 0, 0, 0, 0, 0, 0,\n",
              "          0, 0, 0, 0, 0, 0, 0, 0])})"
            ]
          },
          "metadata": {},
          "execution_count": 21
        }
      ]
    },
    {
      "cell_type": "code",
      "source": [
        "train_data_loader = torch.utils.data.DataLoader(\n",
        "    train_dataset, \n",
        "    batch_size=8,\n",
        "    shuffle=True,\n",
        "    num_workers=0\n",
        ")\n",
        "\n",
        "validation_dataset_loader = torch.utils.data.DataLoader(\n",
        "    validation_dataset,\n",
        "    batch_size=8,\n",
        "    shuffle=True,\n",
        "    num_workers=0\n",
        ")"
      ],
      "metadata": {
        "id": "oiksWfPqsa3e"
      },
      "execution_count": 53,
      "outputs": []
    },
    {
      "cell_type": "code",
      "source": [
        "device = torch.device('cuda') if torch.cuda.is_available() else torch.device('cpu')\n",
        "device"
      ],
      "metadata": {
        "colab": {
          "base_uri": "https://localhost:8080/"
        },
        "id": "dI_fCUFq31D-",
        "outputId": "198719ef-a08a-4bea-e50c-7d14daf3f760"
      },
      "execution_count": 54,
      "outputs": [
        {
          "output_type": "execute_result",
          "data": {
            "text/plain": [
              "device(type='cuda')"
            ]
          },
          "metadata": {},
          "execution_count": 54
        }
      ]
    },
    {
      "cell_type": "code",
      "source": [
        "model = BertClassifier()\n",
        "model.to(device)\n",
        "\n",
        "def loss_fn(outputs, targets):\n",
        "    return torch.nn.BCELoss()(outputs, targets)\n",
        "\n",
        "optimizer = torch.optim.Adam(params =  model.parameters(), lr=2e-5)"
      ],
      "metadata": {
        "colab": {
          "base_uri": "https://localhost:8080/"
        },
        "id": "e2yfsroxwX11",
        "outputId": "ec206c64-5e31-4fcc-8a3d-4e26b28c57e5"
      },
      "execution_count": 55,
      "outputs": [
        {
          "output_type": "stream",
          "name": "stderr",
          "text": [
            "Some weights of the model checkpoint at bert-base-uncased were not used when initializing BertModel: ['cls.predictions.transform.LayerNorm.bias', 'cls.predictions.transform.LayerNorm.weight', 'cls.predictions.decoder.weight', 'cls.predictions.transform.dense.bias', 'cls.seq_relationship.bias', 'cls.predictions.transform.dense.weight', 'cls.seq_relationship.weight', 'cls.predictions.bias']\n",
            "- This IS expected if you are initializing BertModel from the checkpoint of a model trained on another task or with another architecture (e.g. initializing a BertForSequenceClassification model from a BertForPreTraining model).\n",
            "- This IS NOT expected if you are initializing BertModel from the checkpoint of a model that you expect to be exactly identical (initializing a BertForSequenceClassification model from a BertForSequenceClassification model).\n"
          ]
        }
      ]
    },
    {
      "cell_type": "code",
      "source": [
        "for epoch in range(0, 3):\n",
        "\n",
        "  train_loss = 0\n",
        "  valid_loss = 0\n",
        "\n",
        "  model.train()\n",
        "  for idx, data in enumerate(train_data_loader):\n",
        "\n",
        "    ids = data['input_ids'].to(device, dtype = torch.long)\n",
        "    mask = data['attention_mask'].to(device, dtype = torch.long)\n",
        "    targets = data['targets'].to(device, dtype = torch.float)\n",
        "\n",
        "    outputs = model(ids, mask)\n",
        "    loss = loss_fn(outputs, targets)\n",
        "\n",
        "    loss.backward()\n",
        "    optimizer.step()\n",
        "    optimizer.zero_grad()\n",
        "    train_loss = train_loss + ((1 / (idx + 1)) * (loss.item() - train_loss))\n",
        "    # print('after loss data in training', loss.item(), train_loss)\n",
        "\n",
        "  model.eval()\n",
        "  with torch.no_grad():\n",
        "    for idx, data in enumerate(validation_dataset_loader, 0):\n",
        "      ids = data['input_ids'].to(device, dtype = torch.long)\n",
        "      mask = data['attention_mask'].to(device, dtype = torch.long)\n",
        "      targets = data['targets'].to(device, dtype = torch.float)\n",
        "\n",
        "      outputs = model(ids, mask)\n",
        "      loss = loss_fn(outputs, targets)\n",
        "      valid_loss =  valid_loss + ((1 / (idx + 1)) * (loss.item() - valid_loss))\n",
        "  \n",
        "  print(f\"Training loss: {train_loss}\")\n",
        "  print(f\"Validation loss: {valid_loss}\")"
      ],
      "metadata": {
        "colab": {
          "base_uri": "https://localhost:8080/"
        },
        "id": "KZ9wp_KospsA",
        "outputId": "c25bb490-3859-453b-af8c-6f2e25830d46"
      },
      "execution_count": 56,
      "outputs": [
        {
          "output_type": "stream",
          "name": "stdout",
          "text": [
            "Training loss: 0.44293344861746403\n",
            "Validation loss: 0.3765771150912927\n",
            "Training loss: 0.2559768502211685\n",
            "Validation loss: 0.3589815293317256\n",
            "Training loss: 0.15793501347014052\n",
            "Validation loss: 0.2695861232021581\n"
          ]
        }
      ]
    },
    {
      "cell_type": "code",
      "source": [
        "test_df = pd.read_csv('test.csv')\n",
        "test_df.shape"
      ],
      "metadata": {
        "id": "8PJQQylz0biS",
        "colab": {
          "base_uri": "https://localhost:8080/"
        },
        "outputId": "e6dc61c1-4f49-47fc-c003-769e61dd1dbf"
      },
      "execution_count": null,
      "outputs": [
        {
          "output_type": "execute_result",
          "data": {
            "text/plain": [
              "(324, 2)"
            ]
          },
          "metadata": {},
          "execution_count": 29
        }
      ]
    },
    {
      "cell_type": "code",
      "source": [
        "test_data = CustomDataset(test_df, tokenizer, 56)"
      ],
      "metadata": {
        "id": "P5oeRFVMcBVu"
      },
      "execution_count": 57,
      "outputs": []
    },
    {
      "cell_type": "code",
      "source": [
        "test_data[0]"
      ],
      "metadata": {
        "colab": {
          "base_uri": "https://localhost:8080/"
        },
        "id": "KWZ_y8I6cO0S",
        "outputId": "56e07477-73bb-43b8-87d9-e804b0507ce0"
      },
      "execution_count": null,
      "outputs": [
        {
          "output_type": "execute_result",
          "data": {
            "text/plain": [
              "{'attention_mask': tensor([1, 1, 1, 1, 1, 1, 1, 1, 1, 1, 1, 1, 1, 1, 0, 0, 0, 0, 0, 0, 0, 0, 0, 0,\n",
              "         0, 0, 0, 0, 0, 0, 0, 0, 0, 0, 0, 0, 0, 0, 0, 0, 0, 0, 0, 0, 0, 0, 0, 0,\n",
              "         0, 0, 0, 0, 0, 0, 0, 0]),\n",
              " 'input_ids': tensor([  101, 11892,  2007,  2047,  2690,  8059,  5587,  2005, 13679, 15985,\n",
              "          1019,  1012,  1018,   102,     0,     0,     0,     0,     0,     0,\n",
              "             0,     0,     0,     0,     0,     0,     0,     0,     0,     0,\n",
              "             0,     0,     0,     0,     0,     0,     0,     0,     0,     0,\n",
              "             0,     0,     0,     0,     0,     0,     0,     0,     0,     0,\n",
              "             0,     0,     0,     0,     0,     0]),\n",
              " 'targets': tensor([0.]),\n",
              " 'token_type_ids': tensor([0, 0, 0, 0, 0, 0, 0, 0, 0, 0, 0, 0, 0, 0, 0, 0, 0, 0, 0, 0, 0, 0, 0, 0,\n",
              "         0, 0, 0, 0, 0, 0, 0, 0, 0, 0, 0, 0, 0, 0, 0, 0, 0, 0, 0, 0, 0, 0, 0, 0,\n",
              "         0, 0, 0, 0, 0, 0, 0, 0])}"
            ]
          },
          "metadata": {},
          "execution_count": 31
        }
      ]
    },
    {
      "cell_type": "code",
      "source": [
        "test_data[0]['input_ids']"
      ],
      "metadata": {
        "colab": {
          "base_uri": "https://localhost:8080/"
        },
        "id": "8n40Z6p4cnzG",
        "outputId": "f0a6f468-ac10-4a6d-84e8-266b253d7f0a"
      },
      "execution_count": null,
      "outputs": [
        {
          "output_type": "execute_result",
          "data": {
            "text/plain": [
              "tensor([  101, 11892,  2007,  2047,  2690,  8059,  5587,  2005, 13679, 15985,\n",
              "         1019,  1012,  1018,   102,     0,     0,     0,     0,     0,     0,\n",
              "            0,     0,     0,     0,     0,     0,     0,     0,     0,     0,\n",
              "            0,     0,     0,     0,     0,     0,     0,     0,     0,     0,\n",
              "            0,     0,     0,     0,     0,     0,     0,     0,     0,     0,\n",
              "            0,     0,     0,     0,     0,     0])"
            ]
          },
          "metadata": {},
          "execution_count": 34
        }
      ]
    },
    {
      "cell_type": "code",
      "source": [
        "test_data_loader = torch.utils.data.DataLoader(\n",
        "    test_data, \n",
        "    batch_size=1,\n",
        "    shuffle=True,\n",
        "    num_workers=0\n",
        ")\n",
        "# model.eval()"
      ],
      "metadata": {
        "id": "wmKHNkCqcW1R"
      },
      "execution_count": 58,
      "outputs": []
    },
    {
      "cell_type": "code",
      "source": [
        "val_targets=[]\n",
        "val_outputs=[]\n",
        "model.eval()\n",
        "with torch.no_grad():\n",
        "  for idx, data in enumerate(test_data_loader, 0):\n",
        "    ids = data['input_ids'].to(device, dtype = torch.long)\n",
        "    mask = data['attention_mask'].to(device, dtype = torch.long)\n",
        "    targets = data['targets'].to(device, dtype = torch.float)\n",
        "\n",
        "    outputs = model(ids, mask)\n",
        "    val_targets.extend(targets.cpu().detach().numpy().tolist())\n",
        "    val_outputs.extend(outputs.cpu().detach().numpy().tolist())"
      ],
      "metadata": {
        "id": "yOcH3Fjld2CW"
      },
      "execution_count": 59,
      "outputs": []
    },
    {
      "cell_type": "code",
      "source": [
        "val_targets, val_outputs"
      ],
      "metadata": {
        "id": "bZ2oLni-lBW_"
      },
      "execution_count": null,
      "outputs": []
    },
    {
      "cell_type": "code",
      "source": [
        "predictions = (np.array(val_outputs) > 0.5).astype(int)"
      ],
      "metadata": {
        "id": "0TaKZx04r4WV"
      },
      "execution_count": 61,
      "outputs": []
    },
    {
      "cell_type": "code",
      "source": [
        "confusion_matrix(y_true=val_targets, y_pred=predictions)"
      ],
      "metadata": {
        "colab": {
          "base_uri": "https://localhost:8080/"
        },
        "id": "9H-pTie1eG_P",
        "outputId": "9a9ede0b-61a8-4c27-95e6-fd393575799a"
      },
      "execution_count": 62,
      "outputs": [
        {
          "output_type": "execute_result",
          "data": {
            "text/plain": [
              "array([[206,  11],\n",
              "       [ 21,  86]])"
            ]
          },
          "metadata": {},
          "execution_count": 62
        }
      ]
    },
    {
      "cell_type": "code",
      "source": [
        "print(classification_report(val_targets, predictions))"
      ],
      "metadata": {
        "colab": {
          "base_uri": "https://localhost:8080/"
        },
        "id": "k46BfWjseLZB",
        "outputId": "145be8a7-abec-4387-8c7d-90f1b38e4976"
      },
      "execution_count": 63,
      "outputs": [
        {
          "output_type": "stream",
          "name": "stdout",
          "text": [
            "              precision    recall  f1-score   support\n",
            "\n",
            "         0.0       0.91      0.95      0.93       217\n",
            "         1.0       0.89      0.80      0.84       107\n",
            "\n",
            "    accuracy                           0.90       324\n",
            "   macro avg       0.90      0.88      0.89       324\n",
            "weighted avg       0.90      0.90      0.90       324\n",
            "\n"
          ]
        }
      ]
    },
    {
      "cell_type": "markdown",
      "source": [
        "## Make local datasets and models"
      ],
      "metadata": {
        "id": "maovcaTwxg18"
      }
    },
    {
      "cell_type": "code",
      "source": [
        "df_shuffled = df.sample(frac=1)"
      ],
      "metadata": {
        "id": "BCLyspiQxfeW"
      },
      "execution_count": 64,
      "outputs": []
    },
    {
      "cell_type": "code",
      "source": [
        "df_l1 = df_shuffled[:1000].reset_index(drop=True)\n",
        "df_l2 = df_shuffled[1000:1500].reset_index(drop=True)\n",
        "df_l3 = df_shuffled[1500:].reset_index(drop=True)"
      ],
      "metadata": {
        "id": "HNu9SjAhyN0c"
      },
      "execution_count": 65,
      "outputs": []
    },
    {
      "cell_type": "code",
      "source": [
        "df_l1.shape, df_l2.shape, df_l3.shape"
      ],
      "metadata": {
        "colab": {
          "base_uri": "https://localhost:8080/"
        },
        "id": "Wz2_s174yi3l",
        "outputId": "42b31dad-63cd-46cd-daf5-f1890232c9b0"
      },
      "execution_count": 66,
      "outputs": [
        {
          "output_type": "execute_result",
          "data": {
            "text/plain": [
              "((1000, 2), (500, 2), (331, 2))"
            ]
          },
          "metadata": {},
          "execution_count": 66
        }
      ]
    },
    {
      "cell_type": "markdown",
      "source": [
        "### Local model training and testing, loss and optimizer functions"
      ],
      "metadata": {
        "id": "ZHeSRuPnnWCG"
      }
    },
    {
      "cell_type": "code",
      "source": [
        "# train local model 1\n",
        "def TrainLocalModel(no_of_epochs,\n",
        "                    train_data_loader,\n",
        "                    model,\n",
        "                    loss,\n",
        "                    optimizer,\n",
        "                    valid_data_loader, \n",
        "                    device):\n",
        "\n",
        "  for epoch in range(0, no_of_epochs):\n",
        "\n",
        "    train_loss = 0\n",
        "    valid_loss = 0\n",
        "\n",
        "    model.train()\n",
        "    for idx, data in enumerate(train_data_loader):\n",
        "\n",
        "      ids = data['input_ids'].to(device, dtype = torch.long)\n",
        "      mask = data['attention_mask'].to(device, dtype = torch.long)\n",
        "      targets = data['targets'].to(device, dtype = torch.float)\n",
        "\n",
        "      outputs = model(ids, mask)\n",
        "      loss = loss_fn(outputs, targets)\n",
        "\n",
        "      loss.backward()\n",
        "      optimizer.step()\n",
        "      optimizer.zero_grad()\n",
        "      train_loss = train_loss + ((1 / (idx + 1)) * (loss.item() - train_loss))\n",
        "      # print('after loss data in training', loss.item(), train_loss)\n",
        "\n",
        "    model.eval()\n",
        "    with torch.no_grad():\n",
        "      for idx, data in enumerate(valid_data_loader, 0):\n",
        "        ids = data['input_ids'].to(device, dtype = torch.long)\n",
        "        mask = data['attention_mask'].to(device, dtype = torch.long)\n",
        "        targets = data['targets'].to(device, dtype = torch.float)\n",
        "\n",
        "        outputs = model(ids, mask)\n",
        "        loss = loss_fn(outputs, targets)\n",
        "        valid_loss =  valid_loss + ((1 / (idx + 1)) * (loss.item() - valid_loss))\n",
        "    \n",
        "    print(f\"Training loss: {train_loss}\")\n",
        "    print(f\"Validation loss: {valid_loss}\")\n",
        "  return model"
      ],
      "metadata": {
        "id": "WBMxAc2lkcen"
      },
      "execution_count": 67,
      "outputs": []
    },
    {
      "cell_type": "code",
      "source": [
        "def TestLocalModel(test_data_loader,model):\n",
        "  val_targets=[]\n",
        "  val_outputs=[]\n",
        "  model.eval()\n",
        "  with torch.no_grad():\n",
        "    for idx, data in enumerate(test_data_loader, 0):\n",
        "      ids = data['input_ids'].to(device, dtype = torch.long)\n",
        "      mask = data['attention_mask'].to(device, dtype = torch.long)\n",
        "      targets = data['targets'].to(device, dtype = torch.float)\n",
        "\n",
        "      outputs = model(ids, mask)\n",
        "      val_targets.extend(targets.cpu().detach().numpy().tolist())\n",
        "      val_outputs.extend(outputs.cpu().detach().numpy().tolist())\n",
        "  return val_targets, val_outputs"
      ],
      "metadata": {
        "id": "UCOtCOL7mnlb"
      },
      "execution_count": 68,
      "outputs": []
    },
    {
      "cell_type": "code",
      "source": [
        "def loss_fn(outputs, targets):\n",
        "    return torch.nn.BCELoss()(outputs, targets)\n",
        "\n",
        "# optimizer = torch.optim.Adam(params =  local_model_1.parameters(), lr=2e-5)"
      ],
      "metadata": {
        "id": "es2rtqap2Fq7"
      },
      "execution_count": 69,
      "outputs": []
    },
    {
      "cell_type": "markdown",
      "source": [
        "#### Train local model 1"
      ],
      "metadata": {
        "id": "OTIDT5Vnywab"
      }
    },
    {
      "cell_type": "code",
      "source": [
        "# split train and validation dataframes \n",
        "train_df_l1 = df_l1.sample(frac=0.9)\n",
        "valid_df_l1 = df_l1.drop(train_df_l1.index).reset_index(drop=True)\n",
        "train_df_l1.reset_index(drop=True, inplace=True)"
      ],
      "metadata": {
        "id": "qVsKeVKkyqy8"
      },
      "execution_count": 70,
      "outputs": []
    },
    {
      "cell_type": "code",
      "source": [
        "# make datasets and dataloaders \n",
        "train_data_l1 = CustomDataset(train_df_l1, tokenizer, 56)\n",
        "valid_data_l1 = CustomDataset(valid_df_l1, tokenizer, 56)"
      ],
      "metadata": {
        "id": "Af2qc_jkacgt"
      },
      "execution_count": 71,
      "outputs": []
    },
    {
      "cell_type": "code",
      "source": [
        "train_data_l1[0], valid_data_l1[0]"
      ],
      "metadata": {
        "colab": {
          "base_uri": "https://localhost:8080/"
        },
        "id": "yWgiGIkzap0w",
        "outputId": "f4d2c68e-57b2-4b01-c722-3bca75f05932"
      },
      "execution_count": null,
      "outputs": [
        {
          "output_type": "execute_result",
          "data": {
            "text/plain": [
              "({'attention_mask': tensor([1, 1, 1, 1, 1, 1, 0, 0, 0, 0, 0, 0, 0, 0, 0, 0, 0, 0, 0, 0, 0, 0, 0, 0,\n",
              "          0, 0, 0, 0, 0, 0, 0, 0, 0, 0, 0, 0, 0, 0, 0, 0, 0, 0, 0, 0, 0, 0, 0, 0,\n",
              "          0, 0, 0, 0, 0, 0, 0, 0]),\n",
              "  'input_ids': tensor([ 101, 5604, 2047, 8778, 2544,  102,    0,    0,    0,    0,    0,    0,\n",
              "             0,    0,    0,    0,    0,    0,    0,    0,    0,    0,    0,    0,\n",
              "             0,    0,    0,    0,    0,    0,    0,    0,    0,    0,    0,    0,\n",
              "             0,    0,    0,    0,    0,    0,    0,    0,    0,    0,    0,    0,\n",
              "             0,    0,    0,    0,    0,    0,    0,    0]),\n",
              "  'targets': tensor([0.]),\n",
              "  'token_type_ids': tensor([0, 0, 0, 0, 0, 0, 0, 0, 0, 0, 0, 0, 0, 0, 0, 0, 0, 0, 0, 0, 0, 0, 0, 0,\n",
              "          0, 0, 0, 0, 0, 0, 0, 0, 0, 0, 0, 0, 0, 0, 0, 0, 0, 0, 0, 0, 0, 0, 0, 0,\n",
              "          0, 0, 0, 0, 0, 0, 0, 0])},\n",
              " {'attention_mask': tensor([1, 1, 1, 1, 1, 1, 1, 1, 1, 1, 1, 1, 1, 1, 1, 1, 1, 0, 0, 0, 0, 0, 0, 0,\n",
              "          0, 0, 0, 0, 0, 0, 0, 0, 0, 0, 0, 0, 0, 0, 0, 0, 0, 0, 0, 0, 0, 0, 0, 0,\n",
              "          0, 0, 0, 0, 0, 0, 0, 0]),\n",
              "  'input_ids': tensor([  101, 14916, 14074,  1000,  1054, 24527, 26730,  2140,  1000,  2000,\n",
              "           1000,  2448, 22254,  5555,  4263,  1000,   102,     0,     0,     0,\n",
              "              0,     0,     0,     0,     0,     0,     0,     0,     0,     0,\n",
              "              0,     0,     0,     0,     0,     0,     0,     0,     0,     0,\n",
              "              0,     0,     0,     0,     0,     0,     0,     0,     0,     0,\n",
              "              0,     0,     0,     0,     0,     0]),\n",
              "  'targets': tensor([0.]),\n",
              "  'token_type_ids': tensor([0, 0, 0, 0, 0, 0, 0, 0, 0, 0, 0, 0, 0, 0, 0, 0, 0, 0, 0, 0, 0, 0, 0, 0,\n",
              "          0, 0, 0, 0, 0, 0, 0, 0, 0, 0, 0, 0, 0, 0, 0, 0, 0, 0, 0, 0, 0, 0, 0, 0,\n",
              "          0, 0, 0, 0, 0, 0, 0, 0])})"
            ]
          },
          "metadata": {},
          "execution_count": 17
        }
      ]
    },
    {
      "cell_type": "code",
      "source": [
        "valid_df_l1.shape, train_df_l1.shape"
      ],
      "metadata": {
        "colab": {
          "base_uri": "https://localhost:8080/"
        },
        "id": "OoBcp5WvZvfc",
        "outputId": "421b7f33-dfa6-4238-b619-b18ffdee44a7"
      },
      "execution_count": 72,
      "outputs": [
        {
          "output_type": "execute_result",
          "data": {
            "text/plain": [
              "((100, 2), (900, 2))"
            ]
          },
          "metadata": {},
          "execution_count": 72
        }
      ]
    },
    {
      "cell_type": "code",
      "source": [
        "train_data_loader_l1 = torch.utils.data.DataLoader(\n",
        "    train_data_l1, \n",
        "    batch_size=8,\n",
        "    shuffle=True,\n",
        "    num_workers=0\n",
        ")\n",
        "\n",
        "valid_data_loader_l1 = torch.utils.data.DataLoader(\n",
        "    valid_data_l1, \n",
        "    batch_size=8,\n",
        "    shuffle=True,\n",
        "    num_workers=0\n",
        ")"
      ],
      "metadata": {
        "id": "1eJRDnqDjSZe"
      },
      "execution_count": 73,
      "outputs": []
    },
    {
      "cell_type": "code",
      "source": [
        "# make and train local models\n",
        "local_model_1 = BertClassifier()\n",
        "local_model_1.to(device)\n",
        "optimizer = torch.optim.Adam(params = local_model_1.parameters(), lr=2e-5)"
      ],
      "metadata": {
        "colab": {
          "base_uri": "https://localhost:8080/"
        },
        "id": "rVD-FYYFkEK6",
        "outputId": "f52a0107-a9ec-4daf-b9e1-8fcd271b0a6a"
      },
      "execution_count": 74,
      "outputs": [
        {
          "output_type": "stream",
          "name": "stderr",
          "text": [
            "Some weights of the model checkpoint at bert-base-uncased were not used when initializing BertModel: ['cls.predictions.transform.LayerNorm.bias', 'cls.predictions.transform.LayerNorm.weight', 'cls.predictions.decoder.weight', 'cls.predictions.transform.dense.bias', 'cls.seq_relationship.bias', 'cls.predictions.transform.dense.weight', 'cls.seq_relationship.weight', 'cls.predictions.bias']\n",
            "- This IS expected if you are initializing BertModel from the checkpoint of a model trained on another task or with another architecture (e.g. initializing a BertForSequenceClassification model from a BertForPreTraining model).\n",
            "- This IS NOT expected if you are initializing BertModel from the checkpoint of a model that you expect to be exactly identical (initializing a BertForSequenceClassification model from a BertForSequenceClassification model).\n"
          ]
        }
      ]
    },
    {
      "cell_type": "code",
      "source": [
        "trained_model_l1 = TrainLocalModel(\n",
        "    no_of_epochs=3,\n",
        "    train_data_loader=train_data_loader_l1,\n",
        "    model=local_model_1,\n",
        "    loss=loss_fn,\n",
        "    optimizer= optimizer,\n",
        "    valid_data_loader=valid_data_loader_l1,\n",
        "    device=device\n",
        ")"
      ],
      "metadata": {
        "colab": {
          "base_uri": "https://localhost:8080/"
        },
        "id": "tbGlP0yCkTKT",
        "outputId": "73652e41-d604-4218-921a-17267f91cba3"
      },
      "execution_count": 75,
      "outputs": [
        {
          "output_type": "stream",
          "name": "stdout",
          "text": [
            "Training loss: 0.426633126308433\n",
            "Validation loss: 0.3387983854000385\n",
            "Training loss: 0.2508876922054101\n",
            "Validation loss: 0.2901247441768646\n",
            "Training loss: 0.14970368600194958\n",
            "Validation loss: 0.27060740613020384\n"
          ]
        }
      ]
    },
    {
      "cell_type": "markdown",
      "source": [
        "### Train local model 2"
      ],
      "metadata": {
        "id": "7OHYyqBly46A"
      }
    },
    {
      "cell_type": "code",
      "source": [
        "# split train and validation dataframes \n",
        "train_df_l2 = df_l2.sample(frac=0.9)\n",
        "valid_df_l2 = df_l2.drop(train_df_l2.index).reset_index(drop=True)\n",
        "train_df_l2.reset_index(drop=True, inplace=True)"
      ],
      "metadata": {
        "id": "YlKpO4Etnrbm"
      },
      "execution_count": 76,
      "outputs": []
    },
    {
      "cell_type": "code",
      "source": [
        "# make datasets and dataloaders \n",
        "train_data_l2 = CustomDataset(train_df_l2, tokenizer, 56)\n",
        "valid_data_l2 = CustomDataset(valid_df_l2, tokenizer, 56)"
      ],
      "metadata": {
        "id": "te9FpLN1nv4V"
      },
      "execution_count": 77,
      "outputs": []
    },
    {
      "cell_type": "code",
      "source": [
        "train_data_l2[0], valid_data_l2[0], valid_df_l2.shape, train_df_l2.shape"
      ],
      "metadata": {
        "colab": {
          "base_uri": "https://localhost:8080/"
        },
        "id": "mJzOssmdnzq-",
        "outputId": "4ac1c3fd-9532-4c81-ba26-b30b6fd80d2d"
      },
      "execution_count": null,
      "outputs": [
        {
          "output_type": "execute_result",
          "data": {
            "text/plain": [
              "({'attention_mask': tensor([1, 1, 1, 1, 1, 1, 1, 1, 1, 1, 1, 1, 1, 1, 1, 1, 1, 1, 1, 1, 1, 1, 1, 1,\n",
              "          1, 1, 1, 1, 1, 1, 1, 1, 1, 1, 1, 1, 1, 1, 1, 1, 1, 1, 1, 1, 1, 1, 1, 1,\n",
              "          1, 1, 1, 1, 1, 1, 1, 1]),\n",
              "  'input_ids': tensor([  101,  1044,  2860,  8202,  1024,  1056, 13668, 12740, 14142,  1024,\n",
              "           1044,  2860,  8202,  4062,  2005,  1056, 13668, 12740, 14142,  5506,\n",
              "           2278,  2023,  4062, 14451,  2015,  1996, 25353, 22747,  2015, 14164,\n",
              "           1997,  1996,  1056, 13668, 12740, 14142,  5506,  2278, 11336,  1012,\n",
              "           2035,  1996, 10004,  3149,  5300,  2024,  5228,  1999,  3408,  1997,\n",
              "          19842,  1012,  3149,  2410,  1998,   102]),\n",
              "  'targets': tensor([0.]),\n",
              "  'token_type_ids': tensor([0, 0, 0, 0, 0, 0, 0, 0, 0, 0, 0, 0, 0, 0, 0, 0, 0, 0, 0, 0, 0, 0, 0, 0,\n",
              "          0, 0, 0, 0, 0, 0, 0, 0, 0, 0, 0, 0, 0, 0, 0, 0, 0, 0, 0, 0, 0, 0, 0, 0,\n",
              "          0, 0, 0, 0, 0, 0, 0, 0])},\n",
              " {'attention_mask': tensor([1, 1, 1, 1, 1, 1, 1, 1, 1, 1, 1, 1, 1, 1, 1, 1, 1, 1, 1, 1, 1, 1, 1, 1,\n",
              "          1, 1, 1, 1, 1, 1, 1, 1, 1, 1, 1, 1, 1, 1, 1, 1, 1, 1, 1, 1, 1, 1, 1, 1,\n",
              "          1, 1, 1, 1, 1, 1, 1, 1]),\n",
              "  'input_ids': tensor([  101,  5587,  1037,  2265,  3094,  2000,  1996, 21647,  3094,  2653,\n",
              "           1012,  2023,  2003,  6179,  6502,  2005,  2019,  9046,  3818,  8983,\n",
              "           2000,  3499,  1996, 24547,  6903,  2946,  2000,  2022,  2904,  2012,\n",
              "           1999,  4183, 18939,  2051,  1025,  5906,  2066, 18720,  1035,  2918,\n",
              "           5963,  6279,  2342,  1996,  3754,  2000,  6970, 21799,  1996,  8241,\n",
              "           4292,  1012,  2021,  2009,  2036,   102]),\n",
              "  'targets': tensor([0.]),\n",
              "  'token_type_ids': tensor([0, 0, 0, 0, 0, 0, 0, 0, 0, 0, 0, 0, 0, 0, 0, 0, 0, 0, 0, 0, 0, 0, 0, 0,\n",
              "          0, 0, 0, 0, 0, 0, 0, 0, 0, 0, 0, 0, 0, 0, 0, 0, 0, 0, 0, 0, 0, 0, 0, 0,\n",
              "          0, 0, 0, 0, 0, 0, 0, 0])},\n",
              " (50, 2),\n",
              " (450, 2))"
            ]
          },
          "metadata": {},
          "execution_count": 28
        }
      ]
    },
    {
      "cell_type": "code",
      "source": [
        "train_data_loader_l2 = torch.utils.data.DataLoader(\n",
        "    train_data_l2, \n",
        "    batch_size=8,\n",
        "    shuffle=True,\n",
        "    num_workers=0\n",
        ")\n",
        "\n",
        "valid_data_loader_l2 = torch.utils.data.DataLoader(\n",
        "    valid_data_l2, \n",
        "    batch_size=8,\n",
        "    shuffle=True,\n",
        "    num_workers=0\n",
        ")"
      ],
      "metadata": {
        "id": "0iQ1KTtYn6Ry"
      },
      "execution_count": 78,
      "outputs": []
    },
    {
      "cell_type": "code",
      "source": [
        "# make and train local models\n",
        "local_model_2 = BertClassifier()\n",
        "local_model_2.to(device)\n",
        "optimizer = torch.optim.Adam(params =  local_model_2.parameters(), lr=2e-5)"
      ],
      "metadata": {
        "colab": {
          "base_uri": "https://localhost:8080/"
        },
        "id": "F9vvX5nVn8t1",
        "outputId": "f8ddf6e0-6678-4793-bf15-1890df3c7e65"
      },
      "execution_count": 79,
      "outputs": [
        {
          "output_type": "stream",
          "name": "stderr",
          "text": [
            "Some weights of the model checkpoint at bert-base-uncased were not used when initializing BertModel: ['cls.predictions.transform.LayerNorm.bias', 'cls.predictions.transform.LayerNorm.weight', 'cls.predictions.decoder.weight', 'cls.predictions.transform.dense.bias', 'cls.seq_relationship.bias', 'cls.predictions.transform.dense.weight', 'cls.seq_relationship.weight', 'cls.predictions.bias']\n",
            "- This IS expected if you are initializing BertModel from the checkpoint of a model trained on another task or with another architecture (e.g. initializing a BertForSequenceClassification model from a BertForPreTraining model).\n",
            "- This IS NOT expected if you are initializing BertModel from the checkpoint of a model that you expect to be exactly identical (initializing a BertForSequenceClassification model from a BertForSequenceClassification model).\n"
          ]
        }
      ]
    },
    {
      "cell_type": "code",
      "source": [
        "trained_model_l2 = TrainLocalModel(\n",
        "    no_of_epochs=3,\n",
        "    train_data_loader=train_data_loader_l2,\n",
        "    model=local_model_2,\n",
        "    loss=loss_fn,\n",
        "    optimizer=optimizer,\n",
        "    valid_data_loader=valid_data_loader_l2,\n",
        "    device=device\n",
        ")"
      ],
      "metadata": {
        "colab": {
          "base_uri": "https://localhost:8080/"
        },
        "id": "-dXRom5nn_eV",
        "outputId": "e4614399-844c-49f5-c9ad-08e0a2d78ac1"
      },
      "execution_count": 80,
      "outputs": [
        {
          "output_type": "stream",
          "name": "stdout",
          "text": [
            "Training loss: 0.5992674053760995\n",
            "Validation loss: 0.5162456333637238\n",
            "Training loss: 0.3523262322210429\n",
            "Validation loss: 0.40603523701429367\n",
            "Training loss: 0.2356419089462673\n",
            "Validation loss: 0.6843351583395686\n"
          ]
        }
      ]
    },
    {
      "cell_type": "code",
      "source": [
        "# split train and validation dataframes \n",
        "# make datasets and dataloaders \n",
        "# train models"
      ],
      "metadata": {
        "id": "kpUwJS9my8W2"
      },
      "execution_count": null,
      "outputs": []
    },
    {
      "cell_type": "markdown",
      "source": [
        "### Train local model 3"
      ],
      "metadata": {
        "id": "qLmXHSh1y8wp"
      }
    },
    {
      "cell_type": "code",
      "source": [
        "# split train and validation dataframes \n",
        "train_df_l3 = df_l3.sample(frac=0.9)\n",
        "valid_df_l3 = df_l3.drop(train_df_l3.index).reset_index(drop=True)\n",
        "train_df_l3.reset_index(drop=True, inplace=True)"
      ],
      "metadata": {
        "id": "VUW18Aot2eqO"
      },
      "execution_count": 81,
      "outputs": []
    },
    {
      "cell_type": "code",
      "source": [
        "# make datasets and dataloaders \n",
        "train_data_l3 = CustomDataset(train_df_l3, tokenizer, 56)\n",
        "valid_data_l3 = CustomDataset(valid_df_l3, tokenizer, 56)"
      ],
      "metadata": {
        "id": "ognPJL8O2eqP"
      },
      "execution_count": 82,
      "outputs": []
    },
    {
      "cell_type": "code",
      "source": [
        "train_data_l3[0], valid_data_l3[0], valid_df_l3.shape, train_df_l3.shape"
      ],
      "metadata": {
        "colab": {
          "base_uri": "https://localhost:8080/"
        },
        "id": "z69Z2Je-2eqQ",
        "outputId": "b17f1a35-51f4-4ae2-a6e8-5ef86492d48e"
      },
      "execution_count": null,
      "outputs": [
        {
          "output_type": "execute_result",
          "data": {
            "text/plain": [
              "({'attention_mask': tensor([1, 1, 1, 1, 1, 1, 1, 1, 1, 1, 1, 1, 1, 1, 1, 1, 1, 1, 1, 1, 1, 1, 1, 1,\n",
              "          1, 1, 1, 1, 1, 1, 1, 1, 1, 1, 1, 1, 1, 1, 1, 1, 1, 1, 1, 1, 1, 1, 1, 1,\n",
              "          1, 1, 1, 1, 1, 1, 1, 1]),\n",
              "  'input_ids': tensor([  101,  7172,  8316,  2361,  2358,  2850,  8197,  2000,  7919, 11487,\n",
              "           3645, 13005, 21025,  2102,  1011, 17917,  2078,  1011,  8909,  1024,\n",
              "           5371,  1024,  1013,  1013,  1013,  2188,  1013, 17917,  2078,  1013,\n",
              "           7705,  2509,  1013,  8260,  1030, 17267,  2509,  1018,  2094, 23632,\n",
              "           2575,  2546, 19841,  1011,  1019,  2546, 16048,  1011,  5840, 10790,\n",
              "           1011,  1038, 22275,  2692,  1011,   102]),\n",
              "  'targets': tensor([0.]),\n",
              "  'token_type_ids': tensor([0, 0, 0, 0, 0, 0, 0, 0, 0, 0, 0, 0, 0, 0, 0, 0, 0, 0, 0, 0, 0, 0, 0, 0,\n",
              "          0, 0, 0, 0, 0, 0, 0, 0, 0, 0, 0, 0, 0, 0, 0, 0, 0, 0, 0, 0, 0, 0, 0, 0,\n",
              "          0, 0, 0, 0, 0, 0, 0, 0])},\n",
              " {'attention_mask': tensor([1, 1, 1, 1, 1, 1, 1, 1, 1, 1, 1, 1, 1, 1, 1, 1, 1, 1, 1, 1, 1, 1, 1, 1,\n",
              "          1, 1, 1, 1, 1, 1, 1, 1, 1, 1, 1, 1, 1, 1, 1, 1, 1, 1, 1, 1, 1, 1, 1, 1,\n",
              "          1, 1, 1, 1, 1, 1, 1, 1]),\n",
              "  'input_ids': tensor([  101,  9909,  3972, 12870,  6872,  2000, 11748,  1006,  1001,  6163,\n",
              "          21472,  1007,  1013,  1013,  1046,  2015,  1037,  1027,  1063,  1065,\n",
              "           1025,  1037,  1012,  1038,  1027,  1005,  3231,  1005,  1025,  1013,\n",
              "           1013, 18133,  2361,  1013,  1013,  2000,  3972, 12870,  3200,  2017,\n",
              "           2064,  2085,  2224,  1024, 11748,  1024,  1024,  3795,  1006,  1000,\n",
              "           1037,  1000,  1007,  1012,  3972,   102]),\n",
              "  'targets': tensor([0.]),\n",
              "  'token_type_ids': tensor([0, 0, 0, 0, 0, 0, 0, 0, 0, 0, 0, 0, 0, 0, 0, 0, 0, 0, 0, 0, 0, 0, 0, 0,\n",
              "          0, 0, 0, 0, 0, 0, 0, 0, 0, 0, 0, 0, 0, 0, 0, 0, 0, 0, 0, 0, 0, 0, 0, 0,\n",
              "          0, 0, 0, 0, 0, 0, 0, 0])},\n",
              " (33, 2),\n",
              " (298, 2))"
            ]
          },
          "metadata": {},
          "execution_count": 35
        }
      ]
    },
    {
      "cell_type": "code",
      "source": [
        "train_data_loader_l3 = torch.utils.data.DataLoader(\n",
        "    train_data_l3, \n",
        "    batch_size=8,\n",
        "    shuffle=True,\n",
        "    num_workers=0\n",
        ")\n",
        "\n",
        "valid_data_loader_l3 = torch.utils.data.DataLoader(\n",
        "    valid_data_l3, \n",
        "    batch_size=8,\n",
        "    shuffle=True,\n",
        "    num_workers=0\n",
        ")"
      ],
      "metadata": {
        "id": "_YgkWeii2eqQ"
      },
      "execution_count": 83,
      "outputs": []
    },
    {
      "cell_type": "code",
      "source": [
        "# make and train local models\n",
        "local_model_3 = BertClassifier()\n",
        "local_model_3.to(device)\n",
        "optimizer = torch.optim.Adam(params =  local_model_3.parameters(), lr=2e-5)"
      ],
      "metadata": {
        "colab": {
          "base_uri": "https://localhost:8080/"
        },
        "id": "lWShYK_S2eqR",
        "outputId": "77dff2ca-aaaf-4afb-8038-13e97071fb46"
      },
      "execution_count": 84,
      "outputs": [
        {
          "output_type": "stream",
          "name": "stderr",
          "text": [
            "Some weights of the model checkpoint at bert-base-uncased were not used when initializing BertModel: ['cls.predictions.transform.LayerNorm.bias', 'cls.predictions.transform.LayerNorm.weight', 'cls.predictions.decoder.weight', 'cls.predictions.transform.dense.bias', 'cls.seq_relationship.bias', 'cls.predictions.transform.dense.weight', 'cls.seq_relationship.weight', 'cls.predictions.bias']\n",
            "- This IS expected if you are initializing BertModel from the checkpoint of a model trained on another task or with another architecture (e.g. initializing a BertForSequenceClassification model from a BertForPreTraining model).\n",
            "- This IS NOT expected if you are initializing BertModel from the checkpoint of a model that you expect to be exactly identical (initializing a BertForSequenceClassification model from a BertForSequenceClassification model).\n"
          ]
        }
      ]
    },
    {
      "cell_type": "code",
      "source": [
        "trained_model_l3 = TrainLocalModel(\n",
        "    no_of_epochs=3,\n",
        "    train_data_loader=train_data_loader_l3,\n",
        "    model=local_model_3,\n",
        "    loss=loss_fn,\n",
        "    optimizer=optimizer,\n",
        "    valid_data_loader=valid_data_loader_l3,\n",
        "    device=device\n",
        ")"
      ],
      "metadata": {
        "colab": {
          "base_uri": "https://localhost:8080/"
        },
        "id": "p3hPM2Oh2eqR",
        "outputId": "7a11218a-5295-45a9-9c53-c5a6e359a3f0"
      },
      "execution_count": 85,
      "outputs": [
        {
          "output_type": "stream",
          "name": "stdout",
          "text": [
            "Training loss: 0.609117082467205\n",
            "Validation loss: 0.6023594260215759\n",
            "Training loss: 0.39777719072605433\n",
            "Validation loss: 0.26798893213272096\n",
            "Training loss: 0.24851545564046032\n",
            "Validation loss: 0.3860676646232605\n"
          ]
        }
      ]
    },
    {
      "cell_type": "code",
      "source": [
        "# split train and validation dataframes \n",
        "# make datasets and dataloaders \n",
        "# train models"
      ],
      "metadata": {
        "id": "qViVXvZDy_bh"
      },
      "execution_count": null,
      "outputs": []
    },
    {
      "cell_type": "markdown",
      "source": [
        "### Federated Averaging"
      ],
      "metadata": {
        "id": "5P3BbU0IzdRX"
      }
    },
    {
      "cell_type": "code",
      "source": [
        "# Fed Averaging Function\n",
        "def FedAveraging(members, weights, central_model):\n",
        "  model_state_dicts = []\n",
        "  central_model_dict = central_model.state_dict()\n",
        "  for member in members:\n",
        "    model_state_dicts.append(member.state_dict())\n",
        "  for key in central_model_dict:\n",
        "    member_weights = [member_dict[key].detach() for member_dict in model_state_dicts]\n",
        "    # print(member_weights)\n",
        "    central_model_dict[key] = torch.tensor(np.average(member_weights, \n",
        "                                                      weights=weights_array, \n",
        "                                                      axis=0))\n",
        "\n",
        "  central_model.load_state_dict(central_model_dict)\n",
        "  return central_model\n"
      ],
      "metadata": {
        "id": "Jeyfx9vRzc7N"
      },
      "execution_count": 86,
      "outputs": []
    },
    {
      "cell_type": "code",
      "source": [
        "# compute weight matrix\n",
        "weights_array = [df_l1.shape[0]/df.shape[0], \n",
        "                 df_l2.shape[0]/df.shape[0],\n",
        "                 df_l3.shape[0]/df.shape[0]]\n",
        "\n",
        "print(weights_array)"
      ],
      "metadata": {
        "colab": {
          "base_uri": "https://localhost:8080/"
        },
        "id": "xjUYtQYw3J-4",
        "outputId": "a5e0c739-2e96-4e90-9dd7-1ae7058cbcd8"
      },
      "execution_count": 87,
      "outputs": [
        {
          "output_type": "stream",
          "name": "stdout",
          "text": [
            "[0.5461496450027308, 0.2730748225013654, 0.1807755324959039]\n"
          ]
        }
      ]
    },
    {
      "cell_type": "code",
      "source": [
        "# prepare list of memeber models by moving them back to cpu\n",
        "members = [trained_model_l1.cpu(), \n",
        "           trained_model_l2.cpu(), \n",
        "           trained_model_l3.cpu()]"
      ],
      "metadata": {
        "id": "rEkWj9Qk3R8D"
      },
      "execution_count": 88,
      "outputs": []
    },
    {
      "cell_type": "code",
      "source": [
        "# run federated averaging\n",
        "BaseModel = BertClassifier()\n",
        "\n",
        "fedAvgModel = FedAveraging(members=members,\n",
        "                           weights=weights_array,\n",
        "                           central_model=BaseModel)"
      ],
      "metadata": {
        "colab": {
          "base_uri": "https://localhost:8080/"
        },
        "id": "7gdodDIU25xL",
        "outputId": "ddab4a9a-a695-470f-969d-0ef67f59fd47"
      },
      "execution_count": 89,
      "outputs": [
        {
          "output_type": "stream",
          "name": "stderr",
          "text": [
            "Some weights of the model checkpoint at bert-base-uncased were not used when initializing BertModel: ['cls.predictions.transform.LayerNorm.bias', 'cls.predictions.transform.LayerNorm.weight', 'cls.predictions.decoder.weight', 'cls.predictions.transform.dense.bias', 'cls.seq_relationship.bias', 'cls.predictions.transform.dense.weight', 'cls.seq_relationship.weight', 'cls.predictions.bias']\n",
            "- This IS expected if you are initializing BertModel from the checkpoint of a model trained on another task or with another architecture (e.g. initializing a BertForSequenceClassification model from a BertForPreTraining model).\n",
            "- This IS NOT expected if you are initializing BertModel from the checkpoint of a model that you expect to be exactly identical (initializing a BertForSequenceClassification model from a BertForSequenceClassification model).\n",
            "/usr/local/lib/python3.7/dist-packages/numpy/lib/function_base.py:377: FutureWarning: The input object of type 'Tensor' is an array-like implementing one of the corresponding protocols (`__array__`, `__array_interface__` or `__array_struct__`); but not a sequence (or 0-D). In the future, this object will be coerced as if it was first converted using `np.array(obj)`. To retain the old behaviour, you have to either modify the type 'Tensor', or assign to an empty array created with `np.empty(correct_shape, dtype=object)`.\n",
            "  a = np.asanyarray(a)\n",
            "/usr/local/lib/python3.7/dist-packages/numpy/lib/function_base.py:377: VisibleDeprecationWarning: Creating an ndarray from ragged nested sequences (which is a list-or-tuple of lists-or-tuples-or ndarrays with different lengths or shapes) is deprecated. If you meant to do this, you must specify 'dtype=object' when creating the ndarray.\n",
            "  a = np.asanyarray(a)\n",
            "/usr/local/lib/python3.7/dist-packages/ipykernel_launcher.py:12: UserWarning: To copy construct from a tensor, it is recommended to use sourceTensor.clone().detach() or sourceTensor.clone().detach().requires_grad_(True), rather than torch.tensor(sourceTensor).\n",
            "  if sys.path[0] == '':\n"
          ]
        }
      ]
    },
    {
      "cell_type": "code",
      "source": [
        "# Evaluate the federated averaged model\n",
        "# TestLocalModel()\n",
        "\n",
        "test_df = pd.read_csv('test.csv')\n",
        "test_data = CustomDataset(test_df, tokenizer, 56)\n",
        "test_data_loader = torch.utils.data.DataLoader(\n",
        "    test_data, \n",
        "    batch_size=8,\n",
        "    shuffle=True,\n",
        "    num_workers=0\n",
        ")"
      ],
      "metadata": {
        "id": "DvajcV9G3a-7"
      },
      "execution_count": 90,
      "outputs": []
    },
    {
      "cell_type": "code",
      "source": [
        "fedAvgModel.to(device)"
      ],
      "metadata": {
        "id": "R3jzt78FdUgd"
      },
      "execution_count": null,
      "outputs": []
    },
    {
      "cell_type": "code",
      "source": [
        "targets, outputs = TestLocalModel(test_data_loader, fedAvgModel)"
      ],
      "metadata": {
        "id": "DPMWcsWTanPY"
      },
      "execution_count": 92,
      "outputs": []
    },
    {
      "cell_type": "code",
      "source": [
        "predictions = (np.array(outputs) > 0.5).astype(int)"
      ],
      "metadata": {
        "id": "txEg_xqIdoo7"
      },
      "execution_count": 93,
      "outputs": []
    },
    {
      "cell_type": "code",
      "source": [
        "confusion_matrix(y_true=targets, y_pred=predictions)"
      ],
      "metadata": {
        "colab": {
          "base_uri": "https://localhost:8080/"
        },
        "id": "ro3VRnyTd90K",
        "outputId": "a6da4930-39c2-4cad-fd27-7f3c7d431908"
      },
      "execution_count": 94,
      "outputs": [
        {
          "output_type": "execute_result",
          "data": {
            "text/plain": [
              "array([[197,  20],\n",
              "       [ 17,  90]])"
            ]
          },
          "metadata": {},
          "execution_count": 94
        }
      ]
    },
    {
      "cell_type": "code",
      "source": [
        "print(classification_report(y_true=targets, y_pred=predictions))"
      ],
      "metadata": {
        "colab": {
          "base_uri": "https://localhost:8080/"
        },
        "id": "7DyOE4PucTAt",
        "outputId": "df10d4e1-68f3-4fb9-dd00-5080f0546256"
      },
      "execution_count": 95,
      "outputs": [
        {
          "output_type": "stream",
          "name": "stdout",
          "text": [
            "              precision    recall  f1-score   support\n",
            "\n",
            "         0.0       0.92      0.91      0.91       217\n",
            "         1.0       0.82      0.84      0.83       107\n",
            "\n",
            "    accuracy                           0.89       324\n",
            "   macro avg       0.87      0.87      0.87       324\n",
            "weighted avg       0.89      0.89      0.89       324\n",
            "\n"
          ]
        }
      ]
    }
  ]
}